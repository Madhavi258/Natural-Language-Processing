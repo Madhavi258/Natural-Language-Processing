{
  "metadata": {
    "kernelspec": {
      "language": "python",
      "display_name": "Python 3",
      "name": "python3"
    },
    "language_info": {
      "name": "python",
      "version": "3.10.12",
      "mimetype": "text/x-python",
      "codemirror_mode": {
        "name": "ipython",
        "version": 3
      },
      "pygments_lexer": "ipython3",
      "nbconvert_exporter": "python",
      "file_extension": ".py"
    },
    "kaggle": {
      "accelerator": "nvidiaTeslaT4",
      "dataSources": [
        {
          "sourceId": 7178410,
          "sourceType": "datasetVersion",
          "datasetId": 4146385
        }
      ],
      "dockerImageVersionId": 30616,
      "isInternetEnabled": true,
      "language": "python",
      "sourceType": "notebook",
      "isGpuEnabled": true
    },
    "colab": {
      "provenance": []
    }
  },
  "nbformat_minor": 0,
  "nbformat": 4,
  "cells": [
    {
      "cell_type": "code",
      "source": [
        "# This Python 3 environment comes with many helpful analytics libraries installed\n",
        "# It is defined by the kaggle/python Docker image: https://github.com/kaggle/docker-python\n",
        "# For example, here's several helpful packages to load\n",
        "\n",
        "import numpy as np # linear algebra\n",
        "import pandas as pd # data processing, CSV file I/O (e.g. pd.read_csv)\n",
        "\n",
        "# Input data files are available in the read-only \"../input/\" directory\n",
        "# For example, running this (by clicking run or pressing Shift+Enter) will list all files under the input directory\n",
        "\n",
        "import os\n",
        "for dirname, _, filenames in os.walk('/kaggle/input'):\n",
        "    for filename in filenames:\n",
        "        print(os.path.join(dirname, filename))\n",
        "\n",
        "# You can write up to 20GB to the current directory (/kaggle/working/) that gets preserved as output when you create a version using \"Save & Run All\"\n",
        "# You can also write temporary files to /kaggle/temp/, but they won't be saved outside of the current session"
      ],
      "metadata": {
        "_uuid": "8f2839f25d086af736a60e9eeb907d3b93b6e0e5",
        "_cell_guid": "b1076dfc-b9ad-4769-8c92-a6c4dae69d19",
        "execution": {
          "iopub.status.busy": "2023-12-12T12:42:45.308703Z",
          "iopub.execute_input": "2023-12-12T12:42:45.309413Z",
          "iopub.status.idle": "2023-12-12T12:42:45.657920Z",
          "shell.execute_reply.started": "2023-12-12T12:42:45.309384Z",
          "shell.execute_reply": "2023-12-12T12:42:45.657020Z"
        },
        "trusted": true,
        "id": "6I_tZVkewOyR",
        "outputId": "385b654a-50ce-43ba-89fb-997aa6def609"
      },
      "execution_count": null,
      "outputs": [
        {
          "name": "stdout",
          "text": "/kaggle/input/sentence-simplification/valid.csv\n/kaggle/input/sentence-simplification/train.csv\n/kaggle/input/sentence-simplification/test.csv\n",
          "output_type": "stream"
        }
      ]
    },
    {
      "cell_type": "code",
      "source": [
        "! pip install -q -U bitsandbytes\n",
        "! pip install -q -U git+https://github.com/huggingface/transformers.git\n",
        "! pip install -q -U git+https://github.com/huggingface/peft.git\n",
        "#pip install -q -U git+https://github.com/huggingface/accelerate.git\n",
        "#current version of Accelerate on GitHub breaks QLoRa\n",
        "#Using standard pip instead\n",
        "! pip install -q -U accelerate\n",
        "! pip install -q -U datasets\n",
        "! pip install evaluate\n",
        "! pip install rouge_score"
      ],
      "metadata": {
        "execution": {
          "iopub.status.busy": "2023-12-12T12:42:45.659640Z",
          "iopub.execute_input": "2023-12-12T12:42:45.660003Z",
          "iopub.status.idle": "2023-12-12T12:45:09.046079Z",
          "shell.execute_reply.started": "2023-12-12T12:42:45.659978Z",
          "shell.execute_reply": "2023-12-12T12:45:09.045096Z"
        },
        "trusted": true,
        "id": "T_3VrfAYwOyV",
        "outputId": "9f6916e0-2745-4e73-ec80-ea1be95fcdce"
      },
      "execution_count": null,
      "outputs": [
        {
          "name": "stdout",
          "text": "\u001b[31mERROR: pip's dependency resolver does not currently take into account all the packages that are installed. This behaviour is the source of the following dependency conflicts.\ncudf 23.8.0 requires cupy-cuda11x>=12.0.0, which is not installed.\ncuml 23.8.0 requires cupy-cuda11x>=12.0.0, which is not installed.\ndask-cudf 23.8.0 requires cupy-cuda11x>=12.0.0, which is not installed.\ncudf 23.8.0 requires pandas<1.6.0dev0,>=1.3, but you have pandas 2.0.3 which is incompatible.\ncudf 23.8.0 requires protobuf<5,>=4.21, but you have protobuf 3.20.3 which is incompatible.\ncuml 23.8.0 requires dask==2023.7.1, but you have dask 2023.12.0 which is incompatible.\ncuml 23.8.0 requires distributed==2023.7.1, but you have distributed 2023.12.0 which is incompatible.\ndask-cuda 23.8.0 requires dask==2023.7.1, but you have dask 2023.12.0 which is incompatible.\ndask-cuda 23.8.0 requires distributed==2023.7.1, but you have distributed 2023.12.0 which is incompatible.\ndask-cuda 23.8.0 requires pandas<1.6.0dev0,>=1.3, but you have pandas 2.0.3 which is incompatible.\ndask-cudf 23.8.0 requires dask==2023.7.1, but you have dask 2023.12.0 which is incompatible.\ndask-cudf 23.8.0 requires distributed==2023.7.1, but you have distributed 2023.12.0 which is incompatible.\ndask-cudf 23.8.0 requires pandas<1.6.0dev0,>=1.3, but you have pandas 2.0.3 which is incompatible.\ngcsfs 2023.6.0 requires fsspec==2023.6.0, but you have fsspec 2023.10.0 which is incompatible.\nraft-dask 23.8.0 requires dask==2023.7.1, but you have dask 2023.12.0 which is incompatible.\nraft-dask 23.8.0 requires distributed==2023.7.1, but you have distributed 2023.12.0 which is incompatible.\ns3fs 2023.12.1 requires fsspec==2023.12.1, but you have fsspec 2023.10.0 which is incompatible.\u001b[0m\u001b[31m\n\u001b[0mCollecting evaluate\n  Obtaining dependency information for evaluate from https://files.pythonhosted.org/packages/70/63/7644a1eb7b0297e585a6adec98ed9e575309bb973c33b394dae66bc35c69/evaluate-0.4.1-py3-none-any.whl.metadata\n  Downloading evaluate-0.4.1-py3-none-any.whl.metadata (9.4 kB)\nRequirement already satisfied: datasets>=2.0.0 in /opt/conda/lib/python3.10/site-packages (from evaluate) (2.15.0)\nRequirement already satisfied: numpy>=1.17 in /opt/conda/lib/python3.10/site-packages (from evaluate) (1.24.3)\nRequirement already satisfied: dill in /opt/conda/lib/python3.10/site-packages (from evaluate) (0.3.7)\nRequirement already satisfied: pandas in /opt/conda/lib/python3.10/site-packages (from evaluate) (2.0.3)\nRequirement already satisfied: requests>=2.19.0 in /opt/conda/lib/python3.10/site-packages (from evaluate) (2.31.0)\nRequirement already satisfied: tqdm>=4.62.1 in /opt/conda/lib/python3.10/site-packages (from evaluate) (4.66.1)\nRequirement already satisfied: xxhash in /opt/conda/lib/python3.10/site-packages (from evaluate) (3.4.1)\nRequirement already satisfied: multiprocess in /opt/conda/lib/python3.10/site-packages (from evaluate) (0.70.15)\nRequirement already satisfied: fsspec[http]>=2021.05.0 in /opt/conda/lib/python3.10/site-packages (from evaluate) (2023.10.0)\nRequirement already satisfied: huggingface-hub>=0.7.0 in /opt/conda/lib/python3.10/site-packages (from evaluate) (0.19.4)\nRequirement already satisfied: packaging in /opt/conda/lib/python3.10/site-packages (from evaluate) (21.3)\nRequirement already satisfied: responses<0.19 in /opt/conda/lib/python3.10/site-packages (from evaluate) (0.18.0)\nRequirement already satisfied: pyarrow>=8.0.0 in /opt/conda/lib/python3.10/site-packages (from datasets>=2.0.0->evaluate) (11.0.0)\nRequirement already satisfied: pyarrow-hotfix in /opt/conda/lib/python3.10/site-packages (from datasets>=2.0.0->evaluate) (0.6)\nRequirement already satisfied: aiohttp in /opt/conda/lib/python3.10/site-packages (from datasets>=2.0.0->evaluate) (3.8.5)\nRequirement already satisfied: pyyaml>=5.1 in /opt/conda/lib/python3.10/site-packages (from datasets>=2.0.0->evaluate) (6.0.1)\nRequirement already satisfied: filelock in /opt/conda/lib/python3.10/site-packages (from huggingface-hub>=0.7.0->evaluate) (3.12.2)\nRequirement already satisfied: typing-extensions>=3.7.4.3 in /opt/conda/lib/python3.10/site-packages (from huggingface-hub>=0.7.0->evaluate) (4.5.0)\nRequirement already satisfied: pyparsing!=3.0.5,>=2.0.2 in /opt/conda/lib/python3.10/site-packages (from packaging->evaluate) (3.0.9)\nRequirement already satisfied: charset-normalizer<4,>=2 in /opt/conda/lib/python3.10/site-packages (from requests>=2.19.0->evaluate) (3.2.0)\nRequirement already satisfied: idna<4,>=2.5 in /opt/conda/lib/python3.10/site-packages (from requests>=2.19.0->evaluate) (3.4)\nRequirement already satisfied: urllib3<3,>=1.21.1 in /opt/conda/lib/python3.10/site-packages (from requests>=2.19.0->evaluate) (1.26.15)\nRequirement already satisfied: certifi>=2017.4.17 in /opt/conda/lib/python3.10/site-packages (from requests>=2.19.0->evaluate) (2023.11.17)\nRequirement already satisfied: python-dateutil>=2.8.2 in /opt/conda/lib/python3.10/site-packages (from pandas->evaluate) (2.8.2)\nRequirement already satisfied: pytz>=2020.1 in /opt/conda/lib/python3.10/site-packages (from pandas->evaluate) (2023.3)\nRequirement already satisfied: tzdata>=2022.1 in /opt/conda/lib/python3.10/site-packages (from pandas->evaluate) (2023.3)\nRequirement already satisfied: attrs>=17.3.0 in /opt/conda/lib/python3.10/site-packages (from aiohttp->datasets>=2.0.0->evaluate) (23.1.0)\nRequirement already satisfied: multidict<7.0,>=4.5 in /opt/conda/lib/python3.10/site-packages (from aiohttp->datasets>=2.0.0->evaluate) (6.0.4)\nRequirement already satisfied: async-timeout<5.0,>=4.0.0a3 in /opt/conda/lib/python3.10/site-packages (from aiohttp->datasets>=2.0.0->evaluate) (4.0.3)\nRequirement already satisfied: yarl<2.0,>=1.0 in /opt/conda/lib/python3.10/site-packages (from aiohttp->datasets>=2.0.0->evaluate) (1.9.2)\nRequirement already satisfied: frozenlist>=1.1.1 in /opt/conda/lib/python3.10/site-packages (from aiohttp->datasets>=2.0.0->evaluate) (1.4.0)\nRequirement already satisfied: aiosignal>=1.1.2 in /opt/conda/lib/python3.10/site-packages (from aiohttp->datasets>=2.0.0->evaluate) (1.3.1)\nRequirement already satisfied: six>=1.5 in /opt/conda/lib/python3.10/site-packages (from python-dateutil>=2.8.2->pandas->evaluate) (1.16.0)\nDownloading evaluate-0.4.1-py3-none-any.whl (84 kB)\n\u001b[2K   \u001b[90m━━━━━━━━━━━━━━━━━━━━━━━━━━━━━━━━━━━━━━━━\u001b[0m \u001b[32m84.1/84.1 kB\u001b[0m \u001b[31m3.3 MB/s\u001b[0m eta \u001b[36m0:00:00\u001b[0m\n\u001b[?25hInstalling collected packages: evaluate\nSuccessfully installed evaluate-0.4.1\nCollecting rouge_score\n  Downloading rouge_score-0.1.2.tar.gz (17 kB)\n  Preparing metadata (setup.py) ... \u001b[?25ldone\n\u001b[?25hRequirement already satisfied: absl-py in /opt/conda/lib/python3.10/site-packages (from rouge_score) (1.4.0)\nRequirement already satisfied: nltk in /opt/conda/lib/python3.10/site-packages (from rouge_score) (3.2.4)\nRequirement already satisfied: numpy in /opt/conda/lib/python3.10/site-packages (from rouge_score) (1.24.3)\nRequirement already satisfied: six>=1.14.0 in /opt/conda/lib/python3.10/site-packages (from rouge_score) (1.16.0)\nBuilding wheels for collected packages: rouge_score\n  Building wheel for rouge_score (setup.py) ... \u001b[?25ldone\n\u001b[?25h  Created wheel for rouge_score: filename=rouge_score-0.1.2-py3-none-any.whl size=24932 sha256=bb1425e0410a93728437a228f74a358cc61129c001fc9a9075acb0b9d827119c\n  Stored in directory: /root/.cache/pip/wheels/5f/dd/89/461065a73be61a532ff8599a28e9beef17985c9e9c31e541b4\nSuccessfully built rouge_score\nInstalling collected packages: rouge_score\nSuccessfully installed rouge_score-0.1.2\n",
          "output_type": "stream"
        }
      ]
    },
    {
      "cell_type": "code",
      "source": [
        "df = pd.read_csv(\"/kaggle/input/sentence-simplification/train.csv\")\n",
        "df"
      ],
      "metadata": {
        "execution": {
          "iopub.status.busy": "2023-12-12T12:45:09.047398Z",
          "iopub.execute_input": "2023-12-12T12:45:09.047678Z",
          "iopub.status.idle": "2023-12-12T12:45:10.225883Z",
          "shell.execute_reply.started": "2023-12-12T12:45:09.047653Z",
          "shell.execute_reply": "2023-12-12T12:45:10.224929Z"
        },
        "trusted": true,
        "id": "qK4EhM-HwOyX",
        "outputId": "e10332ea-c223-487d-b322-45304890097c"
      },
      "execution_count": null,
      "outputs": [
        {
          "execution_count": 3,
          "output_type": "execute_result",
          "data": {
            "text/plain": "        Unnamed: 0                                                  0  \\\n0                0  Lakenheath is host to the largest USAF base in...   \n1                1  Danbury is a city in northern Fairfield County...   \n2                2  In 1997 , after a failed engagement to a Musli...   \n3                3  It initially was completely dark , but as Voya...   \n4                4  The Thinker was originally meant to depict Dan...   \n...            ...                                                ...   \n138408      138408  He is best known for his roles as David Healy ...   \n138409      138409  Today NRC is organised as an independent , pri...   \n138410      138410  He is probably best known internationally for ...   \n138411      138411  De Lesseps then retired from the diplomatic se...   \n138412      138412  Despite the number , this is a north -- south ...   \n\n                                                        1  \n0       Lakenheath is a village and civil parish in Su...  \n1       Danbury is a city of Connecticut in the United...  \n2       In 1997 , after a marriage engagement to a Mus...  \n3       It originally was completely dark , but as Voy...  \n4       The Thinker was originally meant to depict Dan...  \n...                                                   ...  \n138408  Galecki is best known for playing the role of ...  \n138409  Today , the NRC is an independent , private or...  \n138410  He is probably best known for playing Iolaus i...  \n138411  De Lesseps then retired from the diplomatic se...  \n138412  Despite the number , this is a north-south int...  \n\n[138413 rows x 3 columns]",
            "text/html": "<div>\n<style scoped>\n    .dataframe tbody tr th:only-of-type {\n        vertical-align: middle;\n    }\n\n    .dataframe tbody tr th {\n        vertical-align: top;\n    }\n\n    .dataframe thead th {\n        text-align: right;\n    }\n</style>\n<table border=\"1\" class=\"dataframe\">\n  <thead>\n    <tr style=\"text-align: right;\">\n      <th></th>\n      <th>Unnamed: 0</th>\n      <th>0</th>\n      <th>1</th>\n    </tr>\n  </thead>\n  <tbody>\n    <tr>\n      <th>0</th>\n      <td>0</td>\n      <td>Lakenheath is host to the largest USAF base in...</td>\n      <td>Lakenheath is a village and civil parish in Su...</td>\n    </tr>\n    <tr>\n      <th>1</th>\n      <td>1</td>\n      <td>Danbury is a city in northern Fairfield County...</td>\n      <td>Danbury is a city of Connecticut in the United...</td>\n    </tr>\n    <tr>\n      <th>2</th>\n      <td>2</td>\n      <td>In 1997 , after a failed engagement to a Musli...</td>\n      <td>In 1997 , after a marriage engagement to a Mus...</td>\n    </tr>\n    <tr>\n      <th>3</th>\n      <td>3</td>\n      <td>It initially was completely dark , but as Voya...</td>\n      <td>It originally was completely dark , but as Voy...</td>\n    </tr>\n    <tr>\n      <th>4</th>\n      <td>4</td>\n      <td>The Thinker was originally meant to depict Dan...</td>\n      <td>The Thinker was originally meant to depict Dan...</td>\n    </tr>\n    <tr>\n      <th>...</th>\n      <td>...</td>\n      <td>...</td>\n      <td>...</td>\n    </tr>\n    <tr>\n      <th>138408</th>\n      <td>138408</td>\n      <td>He is best known for his roles as David Healy ...</td>\n      <td>Galecki is best known for playing the role of ...</td>\n    </tr>\n    <tr>\n      <th>138409</th>\n      <td>138409</td>\n      <td>Today NRC is organised as an independent , pri...</td>\n      <td>Today , the NRC is an independent , private or...</td>\n    </tr>\n    <tr>\n      <th>138410</th>\n      <td>138410</td>\n      <td>He is probably best known internationally for ...</td>\n      <td>He is probably best known for playing Iolaus i...</td>\n    </tr>\n    <tr>\n      <th>138411</th>\n      <td>138411</td>\n      <td>De Lesseps then retired from the diplomatic se...</td>\n      <td>De Lesseps then retired from the diplomatic se...</td>\n    </tr>\n    <tr>\n      <th>138412</th>\n      <td>138412</td>\n      <td>Despite the number , this is a north -- south ...</td>\n      <td>Despite the number , this is a north-south int...</td>\n    </tr>\n  </tbody>\n</table>\n<p>138413 rows × 3 columns</p>\n</div>"
          },
          "metadata": {}
        }
      ]
    },
    {
      "cell_type": "code",
      "source": [
        "df['0']"
      ],
      "metadata": {
        "execution": {
          "iopub.status.busy": "2023-12-12T12:45:10.228119Z",
          "iopub.execute_input": "2023-12-12T12:45:10.228411Z",
          "iopub.status.idle": "2023-12-12T12:45:10.235670Z",
          "shell.execute_reply.started": "2023-12-12T12:45:10.228383Z",
          "shell.execute_reply": "2023-12-12T12:45:10.234766Z"
        },
        "trusted": true,
        "id": "URGRhma9wOyZ",
        "outputId": "113db810-e4c2-4ccf-f02a-f496c4d38f98"
      },
      "execution_count": null,
      "outputs": [
        {
          "execution_count": 4,
          "output_type": "execute_result",
          "data": {
            "text/plain": "0         Lakenheath is host to the largest USAF base in...\n1         Danbury is a city in northern Fairfield County...\n2         In 1997 , after a failed engagement to a Musli...\n3         It initially was completely dark , but as Voya...\n4         The Thinker was originally meant to depict Dan...\n                                ...                        \n138408    He is best known for his roles as David Healy ...\n138409    Today NRC is organised as an independent , pri...\n138410    He is probably best known internationally for ...\n138411    De Lesseps then retired from the diplomatic se...\n138412    Despite the number , this is a north -- south ...\nName: 0, Length: 138413, dtype: object"
          },
          "metadata": {}
        }
      ]
    },
    {
      "cell_type": "code",
      "source": [
        "from transformers import BartTokenizer, BartForConditionalGeneration, AutoModelForSeq2SeqLM, AutoTokenizer, AutoModelForCausalLM, BitsAndBytesConfig\n",
        "\n",
        "# Load pre-trained BART model and tokenizer\n",
        "model_name = \"facebook/bart-large-cnn\" # Flan-T5-Large\n",
        "tokenizer = AutoTokenizer.from_pretrained(model_name)\n",
        "model = AutoModelForSeq2SeqLM.from_pretrained(model_name)"
      ],
      "metadata": {
        "execution": {
          "iopub.status.busy": "2023-12-12T12:45:10.236824Z",
          "iopub.execute_input": "2023-12-12T12:45:10.237156Z",
          "iopub.status.idle": "2023-12-12T12:45:25.578817Z",
          "shell.execute_reply.started": "2023-12-12T12:45:10.237121Z",
          "shell.execute_reply": "2023-12-12T12:45:25.578033Z"
        },
        "trusted": true,
        "id": "HiPJoWRLwOyb",
        "outputId": "5893f350-1437-46d9-80b0-0a6bef0da2a9",
        "colab": {
          "referenced_widgets": [
            "65e935490707450692da803e6e7225f7",
            "86d33336f2914903b12e2d5badf34d51",
            "51e3754bda044c1f9f6764ca806ea6c9",
            "efdd58b900a64652b41825e8f73bcf48",
            "bcd04b9e95b54c869e9b6245823bb94d",
            "6273dd19c1e641088ce561b8c83c2b74"
          ]
        }
      },
      "execution_count": null,
      "outputs": [
        {
          "output_type": "display_data",
          "data": {
            "text/plain": "config.json:   0%|          | 0.00/1.58k [00:00<?, ?B/s]",
            "application/vnd.jupyter.widget-view+json": {
              "version_major": 2,
              "version_minor": 0,
              "model_id": "65e935490707450692da803e6e7225f7"
            }
          },
          "metadata": {}
        },
        {
          "output_type": "display_data",
          "data": {
            "text/plain": "vocab.json:   0%|          | 0.00/899k [00:00<?, ?B/s]",
            "application/vnd.jupyter.widget-view+json": {
              "version_major": 2,
              "version_minor": 0,
              "model_id": "86d33336f2914903b12e2d5badf34d51"
            }
          },
          "metadata": {}
        },
        {
          "output_type": "display_data",
          "data": {
            "text/plain": "merges.txt:   0%|          | 0.00/456k [00:00<?, ?B/s]",
            "application/vnd.jupyter.widget-view+json": {
              "version_major": 2,
              "version_minor": 0,
              "model_id": "51e3754bda044c1f9f6764ca806ea6c9"
            }
          },
          "metadata": {}
        },
        {
          "output_type": "display_data",
          "data": {
            "text/plain": "tokenizer.json:   0%|          | 0.00/1.36M [00:00<?, ?B/s]",
            "application/vnd.jupyter.widget-view+json": {
              "version_major": 2,
              "version_minor": 0,
              "model_id": "efdd58b900a64652b41825e8f73bcf48"
            }
          },
          "metadata": {}
        },
        {
          "output_type": "display_data",
          "data": {
            "text/plain": "model.safetensors:   0%|          | 0.00/1.63G [00:00<?, ?B/s]",
            "application/vnd.jupyter.widget-view+json": {
              "version_major": 2,
              "version_minor": 0,
              "model_id": "bcd04b9e95b54c869e9b6245823bb94d"
            }
          },
          "metadata": {}
        },
        {
          "output_type": "display_data",
          "data": {
            "text/plain": "generation_config.json:   0%|          | 0.00/363 [00:00<?, ?B/s]",
            "application/vnd.jupyter.widget-view+json": {
              "version_major": 2,
              "version_minor": 0,
              "model_id": "6273dd19c1e641088ce561b8c83c2b74"
            }
          },
          "metadata": {}
        }
      ]
    },
    {
      "cell_type": "code",
      "source": [
        "from datasets import load_dataset\n",
        "train = load_dataset(\"csv\", data_files=\"/kaggle/input/sentence-simplification/train.csv\")\n",
        "test = load_dataset(\"csv\", data_files=\"/kaggle/input/sentence-simplification/test.csv\")\n",
        "val = load_dataset(\"csv\", data_files=\"/kaggle/input/sentence-simplification/valid.csv\")"
      ],
      "metadata": {
        "execution": {
          "iopub.status.busy": "2023-12-12T12:45:25.580035Z",
          "iopub.execute_input": "2023-12-12T12:45:25.580456Z",
          "iopub.status.idle": "2023-12-12T12:45:27.838529Z",
          "shell.execute_reply.started": "2023-12-12T12:45:25.580429Z",
          "shell.execute_reply": "2023-12-12T12:45:27.837482Z"
        },
        "trusted": true,
        "id": "gl1w1fZewOyc",
        "outputId": "3c56572a-4d09-4d60-c6cf-3c9f8fdf19cd",
        "colab": {
          "referenced_widgets": [
            "2487e411578d4d188566ba1b690e4d0d",
            "af7a74bfdf404fcbb871c8c38ba889cc",
            "46ce7bcd0bbf428484155685ce7b63bd",
            "95056c116c8a418299fc42835ab594d0",
            "e07c4495b7374dd3a0ddfd026d0ae11a",
            "a742089909e9440fa74fec079c22c3a8",
            "7adb87722a794f4786520b54826d6b0d",
            "a69dc940a544434baaef66c83e91dc7e",
            "5f1b3c3c320e4214aea06dfc7bccfc63"
          ]
        }
      },
      "execution_count": null,
      "outputs": [
        {
          "name": "stderr",
          "text": "/opt/conda/lib/python3.10/site-packages/scipy/__init__.py:146: UserWarning: A NumPy version >=1.16.5 and <1.23.0 is required for this version of SciPy (detected version 1.24.3\n  warnings.warn(f\"A NumPy version >={np_minversion} and <{np_maxversion}\"\n",
          "output_type": "stream"
        },
        {
          "output_type": "display_data",
          "data": {
            "text/plain": "Downloading data files:   0%|          | 0/1 [00:00<?, ?it/s]",
            "application/vnd.jupyter.widget-view+json": {
              "version_major": 2,
              "version_minor": 0,
              "model_id": "2487e411578d4d188566ba1b690e4d0d"
            }
          },
          "metadata": {}
        },
        {
          "output_type": "display_data",
          "data": {
            "text/plain": "Extracting data files:   0%|          | 0/1 [00:00<?, ?it/s]",
            "application/vnd.jupyter.widget-view+json": {
              "version_major": 2,
              "version_minor": 0,
              "model_id": "af7a74bfdf404fcbb871c8c38ba889cc"
            }
          },
          "metadata": {}
        },
        {
          "output_type": "display_data",
          "data": {
            "text/plain": "Generating train split: 0 examples [00:00, ? examples/s]",
            "application/vnd.jupyter.widget-view+json": {
              "version_major": 2,
              "version_minor": 0,
              "model_id": "46ce7bcd0bbf428484155685ce7b63bd"
            }
          },
          "metadata": {}
        },
        {
          "name": "stderr",
          "text": "/opt/conda/lib/python3.10/site-packages/pyarrow/pandas_compat.py:373: FutureWarning: is_sparse is deprecated and will be removed in a future version. Check `isinstance(dtype, pd.SparseDtype)` instead.\n  if _pandas_api.is_sparse(col):\n/opt/conda/lib/python3.10/site-packages/pyarrow/pandas_compat.py:373: FutureWarning: is_sparse is deprecated and will be removed in a future version. Check `isinstance(dtype, pd.SparseDtype)` instead.\n  if _pandas_api.is_sparse(col):\n/opt/conda/lib/python3.10/site-packages/pyarrow/pandas_compat.py:373: FutureWarning: is_sparse is deprecated and will be removed in a future version. Check `isinstance(dtype, pd.SparseDtype)` instead.\n  if _pandas_api.is_sparse(col):\n/opt/conda/lib/python3.10/site-packages/pyarrow/pandas_compat.py:373: FutureWarning: is_sparse is deprecated and will be removed in a future version. Check `isinstance(dtype, pd.SparseDtype)` instead.\n  if _pandas_api.is_sparse(col):\n/opt/conda/lib/python3.10/site-packages/pyarrow/pandas_compat.py:373: FutureWarning: is_sparse is deprecated and will be removed in a future version. Check `isinstance(dtype, pd.SparseDtype)` instead.\n  if _pandas_api.is_sparse(col):\n/opt/conda/lib/python3.10/site-packages/pyarrow/pandas_compat.py:373: FutureWarning: is_sparse is deprecated and will be removed in a future version. Check `isinstance(dtype, pd.SparseDtype)` instead.\n  if _pandas_api.is_sparse(col):\n/opt/conda/lib/python3.10/site-packages/pyarrow/pandas_compat.py:373: FutureWarning: is_sparse is deprecated and will be removed in a future version. Check `isinstance(dtype, pd.SparseDtype)` instead.\n  if _pandas_api.is_sparse(col):\n/opt/conda/lib/python3.10/site-packages/pyarrow/pandas_compat.py:373: FutureWarning: is_sparse is deprecated and will be removed in a future version. Check `isinstance(dtype, pd.SparseDtype)` instead.\n  if _pandas_api.is_sparse(col):\n/opt/conda/lib/python3.10/site-packages/pyarrow/pandas_compat.py:373: FutureWarning: is_sparse is deprecated and will be removed in a future version. Check `isinstance(dtype, pd.SparseDtype)` instead.\n  if _pandas_api.is_sparse(col):\n/opt/conda/lib/python3.10/site-packages/pyarrow/pandas_compat.py:373: FutureWarning: is_sparse is deprecated and will be removed in a future version. Check `isinstance(dtype, pd.SparseDtype)` instead.\n  if _pandas_api.is_sparse(col):\n/opt/conda/lib/python3.10/site-packages/pyarrow/pandas_compat.py:373: FutureWarning: is_sparse is deprecated and will be removed in a future version. Check `isinstance(dtype, pd.SparseDtype)` instead.\n  if _pandas_api.is_sparse(col):\n/opt/conda/lib/python3.10/site-packages/pyarrow/pandas_compat.py:373: FutureWarning: is_sparse is deprecated and will be removed in a future version. Check `isinstance(dtype, pd.SparseDtype)` instead.\n  if _pandas_api.is_sparse(col):\n/opt/conda/lib/python3.10/site-packages/pyarrow/pandas_compat.py:373: FutureWarning: is_sparse is deprecated and will be removed in a future version. Check `isinstance(dtype, pd.SparseDtype)` instead.\n  if _pandas_api.is_sparse(col):\n/opt/conda/lib/python3.10/site-packages/pyarrow/pandas_compat.py:373: FutureWarning: is_sparse is deprecated and will be removed in a future version. Check `isinstance(dtype, pd.SparseDtype)` instead.\n  if _pandas_api.is_sparse(col):\n",
          "output_type": "stream"
        },
        {
          "output_type": "display_data",
          "data": {
            "text/plain": "Downloading data files:   0%|          | 0/1 [00:00<?, ?it/s]",
            "application/vnd.jupyter.widget-view+json": {
              "version_major": 2,
              "version_minor": 0,
              "model_id": "95056c116c8a418299fc42835ab594d0"
            }
          },
          "metadata": {}
        },
        {
          "output_type": "display_data",
          "data": {
            "text/plain": "Extracting data files:   0%|          | 0/1 [00:00<?, ?it/s]",
            "application/vnd.jupyter.widget-view+json": {
              "version_major": 2,
              "version_minor": 0,
              "model_id": "e07c4495b7374dd3a0ddfd026d0ae11a"
            }
          },
          "metadata": {}
        },
        {
          "output_type": "display_data",
          "data": {
            "text/plain": "Generating train split: 0 examples [00:00, ? examples/s]",
            "application/vnd.jupyter.widget-view+json": {
              "version_major": 2,
              "version_minor": 0,
              "model_id": "a742089909e9440fa74fec079c22c3a8"
            }
          },
          "metadata": {}
        },
        {
          "name": "stderr",
          "text": "/opt/conda/lib/python3.10/site-packages/pyarrow/pandas_compat.py:373: FutureWarning: is_sparse is deprecated and will be removed in a future version. Check `isinstance(dtype, pd.SparseDtype)` instead.\n  if _pandas_api.is_sparse(col):\n",
          "output_type": "stream"
        },
        {
          "output_type": "display_data",
          "data": {
            "text/plain": "Downloading data files:   0%|          | 0/1 [00:00<?, ?it/s]",
            "application/vnd.jupyter.widget-view+json": {
              "version_major": 2,
              "version_minor": 0,
              "model_id": "7adb87722a794f4786520b54826d6b0d"
            }
          },
          "metadata": {}
        },
        {
          "output_type": "display_data",
          "data": {
            "text/plain": "Extracting data files:   0%|          | 0/1 [00:00<?, ?it/s]",
            "application/vnd.jupyter.widget-view+json": {
              "version_major": 2,
              "version_minor": 0,
              "model_id": "a69dc940a544434baaef66c83e91dc7e"
            }
          },
          "metadata": {}
        },
        {
          "output_type": "display_data",
          "data": {
            "text/plain": "Generating train split: 0 examples [00:00, ? examples/s]",
            "application/vnd.jupyter.widget-view+json": {
              "version_major": 2,
              "version_minor": 0,
              "model_id": "5f1b3c3c320e4214aea06dfc7bccfc63"
            }
          },
          "metadata": {}
        },
        {
          "name": "stderr",
          "text": "/opt/conda/lib/python3.10/site-packages/pyarrow/pandas_compat.py:373: FutureWarning: is_sparse is deprecated and will be removed in a future version. Check `isinstance(dtype, pd.SparseDtype)` instead.\n  if _pandas_api.is_sparse(col):\n",
          "output_type": "stream"
        }
      ]
    },
    {
      "cell_type": "code",
      "source": [
        "def tokenize_function(example):\n",
        "    example['input_ids'] = tokenizer(example[\"0\"], padding=\"max_length\", truncation=True, return_tensors=\"pt\").input_ids\n",
        "    example['labels'] = tokenizer(example[\"1\"], padding=\"max_length\", truncation=True, return_tensors=\"pt\").input_ids\n",
        "    return example\n",
        "\n",
        "# The dataset actually contains 3 diff splits: train, validation, test.\n",
        "# The tokenize_function code is handling all data across all splits in batches.\n",
        "train_data = train.map(tokenize_function, batched=True)\n",
        "test_data = test.map(tokenize_function, batched=True)\n",
        "val_data = val.map(tokenize_function, batched=True)"
      ],
      "metadata": {
        "execution": {
          "iopub.status.busy": "2023-12-12T12:45:27.840013Z",
          "iopub.execute_input": "2023-12-12T12:45:27.840591Z",
          "iopub.status.idle": "2023-12-12T12:49:28.714920Z",
          "shell.execute_reply.started": "2023-12-12T12:45:27.840555Z",
          "shell.execute_reply": "2023-12-12T12:49:28.713814Z"
        },
        "trusted": true,
        "id": "jYBO03DhwOyd",
        "outputId": "9ec925da-590b-4999-d7d9-61e295181204",
        "colab": {
          "referenced_widgets": [
            "eccb4b10f99545bfb23dff4f20ff0003",
            "46b07720abc24b87ad8dd5bc55e66816",
            "f9606f06b56744299006184e096bd9e2"
          ]
        }
      },
      "execution_count": null,
      "outputs": [
        {
          "output_type": "display_data",
          "data": {
            "text/plain": "Map:   0%|          | 0/138413 [00:00<?, ? examples/s]",
            "application/vnd.jupyter.widget-view+json": {
              "version_major": 2,
              "version_minor": 0,
              "model_id": "eccb4b10f99545bfb23dff4f20ff0003"
            }
          },
          "metadata": {}
        },
        {
          "output_type": "display_data",
          "data": {
            "text/plain": "Map:   0%|          | 0/359 [00:00<?, ? examples/s]",
            "application/vnd.jupyter.widget-view+json": {
              "version_major": 2,
              "version_minor": 0,
              "model_id": "46b07720abc24b87ad8dd5bc55e66816"
            }
          },
          "metadata": {}
        },
        {
          "output_type": "display_data",
          "data": {
            "text/plain": "Map:   0%|          | 0/2000 [00:00<?, ? examples/s]",
            "application/vnd.jupyter.widget-view+json": {
              "version_major": 2,
              "version_minor": 0,
              "model_id": "f9606f06b56744299006184e096bd9e2"
            }
          },
          "metadata": {}
        }
      ]
    },
    {
      "cell_type": "code",
      "source": [
        "from transformers import (\n",
        "    AutoModelForSeq2SeqLM,\n",
        "    AutoTokenizer,\n",
        "    Seq2SeqTrainingArguments,\n",
        "    Seq2SeqTrainer,\n",
        "    DataCollatorForSeq2Seq,\n",
        ")\n",
        "\n",
        "training_args = Seq2SeqTrainingArguments(\n",
        "    output_dir=\"results\",\n",
        "    num_train_epochs=1,  # demo\n",
        "    do_train=True,\n",
        "    do_eval=True,\n",
        "    per_device_train_batch_size=1,  # demo\n",
        "    per_device_eval_batch_size=1,\n",
        "    # learning_rate=3e-05,\n",
        "    warmup_steps=10,\n",
        "    weight_decay=0.1,\n",
        "    label_smoothing_factor=0.1,\n",
        "    predict_with_generate=True,\n",
        "    logging_dir=\"logs\",\n",
        "    logging_steps=50,\n",
        "    max_steps=68,\n",
        "    save_total_limit=3,\n",
        ")\n",
        "\n",
        "data_collator = DataCollatorForSeq2Seq(tokenizer, model=model)\n",
        "\n",
        "trainer = Seq2SeqTrainer(\n",
        "    model=model,\n",
        "    args=training_args,\n",
        "    data_collator=data_collator,\n",
        "    train_dataset=train_data['train'],\n",
        "    eval_dataset=val_data['train'],\n",
        "    tokenizer=tokenizer,\n",
        "#     compute_metrics=compute_metrics,\n",
        ")"
      ],
      "metadata": {
        "execution": {
          "iopub.status.busy": "2023-12-12T12:49:28.716385Z",
          "iopub.execute_input": "2023-12-12T12:49:28.716830Z",
          "iopub.status.idle": "2023-12-12T12:49:47.048525Z",
          "shell.execute_reply.started": "2023-12-12T12:49:28.716786Z",
          "shell.execute_reply": "2023-12-12T12:49:47.047791Z"
        },
        "trusted": true,
        "id": "sq8I6c6xwOye"
      },
      "execution_count": null,
      "outputs": []
    },
    {
      "cell_type": "code",
      "source": [
        "trainer.train()"
      ],
      "metadata": {
        "execution": {
          "iopub.status.busy": "2023-12-12T12:49:47.049617Z",
          "iopub.execute_input": "2023-12-12T12:49:47.049898Z",
          "iopub.status.idle": "2023-12-12T12:52:20.145342Z",
          "shell.execute_reply.started": "2023-12-12T12:49:47.049873Z",
          "shell.execute_reply": "2023-12-12T12:52:20.144176Z"
        },
        "trusted": true,
        "id": "N8-aCO61wOyg",
        "outputId": "4ebe7adc-8886-4f40-ce0a-5e65c59fbeae"
      },
      "execution_count": null,
      "outputs": [
        {
          "name": "stderr",
          "text": "\u001b[34m\u001b[1mwandb\u001b[0m: Logging into wandb.ai. (Learn how to deploy a W&B server locally: https://wandb.me/wandb-server)\n\u001b[34m\u001b[1mwandb\u001b[0m: You can find your API key in your browser here: https://wandb.ai/authorize\n\u001b[34m\u001b[1mwandb\u001b[0m: Paste an API key from your profile and hit enter, or press ctrl+c to quit:",
          "output_type": "stream"
        },
        {
          "output_type": "stream",
          "name": "stdin",
          "text": "  ········································\n"
        },
        {
          "name": "stderr",
          "text": "\u001b[34m\u001b[1mwandb\u001b[0m: Appending key for api.wandb.ai to your netrc file: /root/.netrc\n",
          "output_type": "stream"
        },
        {
          "output_type": "display_data",
          "data": {
            "text/plain": "<IPython.core.display.HTML object>",
            "text/html": "Tracking run with wandb version 0.16.1"
          },
          "metadata": {}
        },
        {
          "output_type": "display_data",
          "data": {
            "text/plain": "<IPython.core.display.HTML object>",
            "text/html": "Run data is saved locally in <code>/kaggle/working/wandb/run-20231212_124953-5ztn1ggg</code>"
          },
          "metadata": {}
        },
        {
          "output_type": "display_data",
          "data": {
            "text/plain": "<IPython.core.display.HTML object>",
            "text/html": "Syncing run <strong><a href='https://wandb.ai/202211025/huggingface/runs/5ztn1ggg' target=\"_blank\">helpful-grass-82</a></strong> to <a href='https://wandb.ai/202211025/huggingface' target=\"_blank\">Weights & Biases</a> (<a href='https://wandb.me/run' target=\"_blank\">docs</a>)<br/>"
          },
          "metadata": {}
        },
        {
          "output_type": "display_data",
          "data": {
            "text/plain": "<IPython.core.display.HTML object>",
            "text/html": " View project at <a href='https://wandb.ai/202211025/huggingface' target=\"_blank\">https://wandb.ai/202211025/huggingface</a>"
          },
          "metadata": {}
        },
        {
          "output_type": "display_data",
          "data": {
            "text/plain": "<IPython.core.display.HTML object>",
            "text/html": " View run at <a href='https://wandb.ai/202211025/huggingface/runs/5ztn1ggg' target=\"_blank\">https://wandb.ai/202211025/huggingface/runs/5ztn1ggg</a>"
          },
          "metadata": {}
        },
        {
          "name": "stderr",
          "text": "You're using a BartTokenizerFast tokenizer. Please note that with a fast tokenizer, using the `__call__` method is faster than using a method to encode the text followed by a call to the `pad` method to get a padded encoding.\n",
          "output_type": "stream"
        },
        {
          "output_type": "display_data",
          "data": {
            "text/plain": "<IPython.core.display.HTML object>",
            "text/html": "\n    <div>\n      \n      <progress value='68' max='68' style='width:300px; height:20px; vertical-align: middle;'></progress>\n      [68/68 01:47, Epoch 0/1]\n    </div>\n    <table border=\"1\" class=\"dataframe\">\n  <thead>\n <tr style=\"text-align: left;\">\n      <th>Step</th>\n      <th>Training Loss</th>\n    </tr>\n  </thead>\n  <tbody>\n    <tr>\n      <td>50</td>\n      <td>5.413100</td>\n    </tr>\n  </tbody>\n</table><p>"
          },
          "metadata": {}
        },
        {
          "execution_count": 9,
          "output_type": "execute_result",
          "data": {
            "text/plain": "TrainOutput(global_step=68, training_loss=4.488602301653693, metrics={'train_runtime': 152.8118, 'train_samples_per_second': 0.89, 'train_steps_per_second': 0.445, 'total_flos': 294726225887232.0, 'train_loss': 4.488602301653693, 'epoch': 0.0})"
          },
          "metadata": {}
        }
      ]
    },
    {
      "cell_type": "code",
      "source": [
        "def generate_summary(test_samples, model):\n",
        "    inputs = tokenizer(\n",
        "        test_samples,\n",
        "        padding=\"max_length\",\n",
        "        truncation=True,\n",
        "#         max_length=encoder_max_length,\n",
        "        return_tensors=\"pt\",\n",
        "    )\n",
        "    input_ids = inputs.input_ids.to(model.device)\n",
        "    attention_mask = inputs.attention_mask.to(model.device)\n",
        "    outputs = model.generate(input_ids, attention_mask=attention_mask)\n",
        "    output_str = tokenizer.batch_decode(outputs, skip_special_tokens=True)\n",
        "    return outputs, output_str\n",
        "\n",
        "\n",
        "# model_before_tuning = AutoModelForSeq2SeqLM.from_pretrained(model_name)\n",
        "\n",
        "# test_samples = validation_data_txt.select(range(16))\n",
        "\n",
        "# summaries_before_tuning = generate_summary(test_samples, model_before_tuning)[1]"
      ],
      "metadata": {
        "execution": {
          "iopub.status.busy": "2023-12-12T12:52:20.148265Z",
          "iopub.execute_input": "2023-12-12T12:52:20.148552Z",
          "iopub.status.idle": "2023-12-12T12:52:20.157079Z",
          "shell.execute_reply.started": "2023-12-12T12:52:20.148527Z",
          "shell.execute_reply": "2023-12-12T12:52:20.156075Z"
        },
        "trusted": true,
        "id": "rIhMvM0SwOyi"
      },
      "execution_count": null,
      "outputs": []
    },
    {
      "cell_type": "code",
      "source": [
        "test1 = pd.read_csv(\"/kaggle/input/sentence-simplification/test.csv\")\n",
        "test1"
      ],
      "metadata": {
        "execution": {
          "iopub.status.busy": "2023-12-12T12:52:20.158508Z",
          "iopub.execute_input": "2023-12-12T12:52:20.158907Z",
          "iopub.status.idle": "2023-12-12T12:52:20.195764Z",
          "shell.execute_reply.started": "2023-12-12T12:52:20.158869Z",
          "shell.execute_reply": "2023-12-12T12:52:20.194815Z"
        },
        "trusted": true,
        "id": "YFhvyVa9wOyl",
        "outputId": "897fcd65-bbab-4a4f-a87d-445eae91404b"
      },
      "execution_count": null,
      "outputs": [
        {
          "execution_count": 11,
          "output_type": "execute_result",
          "data": {
            "text/plain": "     Unnamed: 0                                                  0  \\\n0             0  One side of the armed conflicts is composed ma...   \n1             1  Jeddah is the principal gateway to Mecca , Isl...   \n2             2  The Great Dark Spot is thought to represent a ...   \n3             3  His next work , Saturday , follows an especial...   \n4             4  The tarantula , the trickster character , spun...   \n..          ...                                                ...   \n354         354  Although the name suggests that they are locat...   \n355         355  There he had one daughter , later baptized as ...   \n356         356  During an interview , Edward Gorey mentioned t...   \n357         357  The string can vibrate in different modes just...   \n358         358  Gable also earned an Academy Award nomination ...   \n\n                                                     1  \n0    One side of the armed conflicts is made of Sud...  \n1    Jeddah is the main gateway to Mecca, Islam's h...  \n2    The Great Dark Spot is thought to represent a ...  \n3    His next work at Saturday will be a successful...  \n4    The tarantuala, the trickster, spun a black ch...  \n..                                                 ...  \n354  Eventhough the name evokes that they are place...  \n355  He had one daughter named Mary Ann Fisher Powe...  \n356  During an interview, Edward Gorey said that Ba...  \n357  The string can vibrate in different modes just...  \n358  Gable also earned an Academy Award nomination ...  \n\n[359 rows x 3 columns]",
            "text/html": "<div>\n<style scoped>\n    .dataframe tbody tr th:only-of-type {\n        vertical-align: middle;\n    }\n\n    .dataframe tbody tr th {\n        vertical-align: top;\n    }\n\n    .dataframe thead th {\n        text-align: right;\n    }\n</style>\n<table border=\"1\" class=\"dataframe\">\n  <thead>\n    <tr style=\"text-align: right;\">\n      <th></th>\n      <th>Unnamed: 0</th>\n      <th>0</th>\n      <th>1</th>\n    </tr>\n  </thead>\n  <tbody>\n    <tr>\n      <th>0</th>\n      <td>0</td>\n      <td>One side of the armed conflicts is composed ma...</td>\n      <td>One side of the armed conflicts is made of Sud...</td>\n    </tr>\n    <tr>\n      <th>1</th>\n      <td>1</td>\n      <td>Jeddah is the principal gateway to Mecca , Isl...</td>\n      <td>Jeddah is the main gateway to Mecca, Islam's h...</td>\n    </tr>\n    <tr>\n      <th>2</th>\n      <td>2</td>\n      <td>The Great Dark Spot is thought to represent a ...</td>\n      <td>The Great Dark Spot is thought to represent a ...</td>\n    </tr>\n    <tr>\n      <th>3</th>\n      <td>3</td>\n      <td>His next work , Saturday , follows an especial...</td>\n      <td>His next work at Saturday will be a successful...</td>\n    </tr>\n    <tr>\n      <th>4</th>\n      <td>4</td>\n      <td>The tarantula , the trickster character , spun...</td>\n      <td>The tarantuala, the trickster, spun a black ch...</td>\n    </tr>\n    <tr>\n      <th>...</th>\n      <td>...</td>\n      <td>...</td>\n      <td>...</td>\n    </tr>\n    <tr>\n      <th>354</th>\n      <td>354</td>\n      <td>Although the name suggests that they are locat...</td>\n      <td>Eventhough the name evokes that they are place...</td>\n    </tr>\n    <tr>\n      <th>355</th>\n      <td>355</td>\n      <td>There he had one daughter , later baptized as ...</td>\n      <td>He had one daughter named Mary Ann Fisher Powe...</td>\n    </tr>\n    <tr>\n      <th>356</th>\n      <td>356</td>\n      <td>During an interview , Edward Gorey mentioned t...</td>\n      <td>During an interview, Edward Gorey said that Ba...</td>\n    </tr>\n    <tr>\n      <th>357</th>\n      <td>357</td>\n      <td>The string can vibrate in different modes just...</td>\n      <td>The string can vibrate in different modes just...</td>\n    </tr>\n    <tr>\n      <th>358</th>\n      <td>358</td>\n      <td>Gable also earned an Academy Award nomination ...</td>\n      <td>Gable also earned an Academy Award nomination ...</td>\n    </tr>\n  </tbody>\n</table>\n<p>359 rows × 3 columns</p>\n</div>"
          },
          "metadata": {}
        }
      ]
    },
    {
      "cell_type": "code",
      "source": [
        "l = []\n",
        "for i in range(0,len(test1)) :\n",
        "    l.append(generate_summary(test1.iloc[i,-1], model)[1])\n",
        "l"
      ],
      "metadata": {
        "execution": {
          "iopub.status.busy": "2023-12-12T12:52:20.196992Z",
          "iopub.execute_input": "2023-12-12T12:52:20.197347Z",
          "iopub.status.idle": "2023-12-12T13:01:25.557166Z",
          "shell.execute_reply.started": "2023-12-12T12:52:20.197312Z",
          "shell.execute_reply": "2023-12-12T13:01:25.556002Z"
        },
        "trusted": true,
        "id": "dVRhqtoBwOyn",
        "outputId": "655d4f5c-734c-4c50-f166-a3ee62721eb4"
      },
      "execution_count": null,
      "outputs": [
        {
          "execution_count": 12,
          "output_type": "execute_result",
          "data": {
            "text/plain": "[['\\xa0 the and\\xa0 in a far Jan,.) ;-peunningsp,\"inentaint'],\n [' the\\xa0 a inJanga,\" aimediga andance part theJ\\xa0 the\\xa0\\xa0\\xa0,\" the\\xa0 the'],\n ['\\xa0 a the theazingpe in and The-olargal,\"The Aanga a\\xa0\\xa0 the the\\xa0 the a the the\\xa0\\xa0'],\n ['\\xa0 a the inroad andpe-iding --g fitaineorter \" social partinentanceunless, or,\"rel \\''],\n ['\\xa0 and in asp\\xa0 the,\"orterThe,-esteranceazing castre Araburtiff the\\xa0\\xa0esterunningrelaintanga part Aidingondonply from'],\n ['\\xa0 in He the.) effectively,\" stretch aondon and,pe Ataboola descend Theg far'],\n [' theondon a\\xa0 in and far hasroad.),\"orterThe Thepeunless,git'],\n [' the.) a\\xa0 in and,\\xa0 the the\\xa0 the the in the the\\xa0- The from farThe'],\n ['\\xa0 the a.) Saintwise football and in far-orter ofaupeTheancestondonunningult'],\n [' in the\\xa0 has a and- --ondoniff TheiveitcolThepeorter,'],\n ['\\xa0\\xa0 a the in and.)ondon A a a a\\xa0 a the\\xa0\\xa0\\xa0 a a\\xa0 the a- football'],\n ['it\\xa0 andItcr a theunning in believedunlessoneondon itinent\\xa0roadidinghensaintspbletaboola more Itenderrel or far hasformationorter The part'],\n ['\\xa0 and the in\\xa0\\xa0\\xa0 the\\xa0\\xa0 a the.) from --,ply part socialfix on'],\n [' in the a and\\xa0BBondon.) far- Theance onThe Aanga or,\"bble, piecesiding Bunningowazing \\'orterasteurb'],\n ['\\xa0 a the in-ply and.</ farpe.)\\'scol hasondon The lost,\"In'],\n [' We-\\xa0 in reaches theWe and a ThecultiffudiThe hasowitzility effectivelywe'],\n [' in the\\xa0,\" a a in the in a\\xa0 a in\\xa0 the and-pe,.)'],\n [' inent\\xa0 theit and\\'\"aintanga a-road --pe, more,\"ents'],\n ['\\xa0 the and in\\xa0\\xa0\\xa0 a far dominated, a the\\xa0 and\\xa0\\xa0unning A.) focus'],\n ['\\xa0ondon the andB a, inb,\"B\\xa0\\xa0 the\\xa0\\xa0orter.), administered partsit It or'],\n [' in and the\\xa0appa a, the from sectionsanga named- far present.) football has,'],\n [' in.)\\xa0f a\\xa0 the andiding-ondon, on... comesg far'],\n ['\\xa0 all the a in,inson- in theasters.)st, focus arepeondon parts'],\n ['\\xa0 the a in and\\xa0\\xa0 the\\xa0 Mus National-gits,National Theangamus placesition pieces'],\n ['-\\xa0 in and the a, or reservesondon effectivelyunningamacit part has beingappaurb from'],\n [' the Peace\\xa0 aply and peace in recess The,.</.)- endanga or'],\n [' in the and She a\\xa0iff social.)iding movesranunless,,insonangaitunning pieces-crplyetchondon'],\n [' thepe and a in aimedrest\\xa0, superreliff-chesastersit far \"orterance canfer'],\n ['\\xa0 the in a Aiff and piecespeirie-taboola The descend\\xa0 in\\xa0ondonollyrad'],\n ['\\xa0 in the a The far,\\xa0\\xa0,\"\\'andondon --pe dec effectively a reaches'],\n [' the in\\xa0-.) The and\\xa0The hasroad ait,\" far first onendersone'],\n ['\\xa0 a He and inorter therothitondon\\xa0anga -- he The hasurb.)end'],\n [' the at.) in\\xa0anga a--\\xa0 ataintst,\" and from'],\n ['\\xa0 the in the-\\xa0 and aThe Theroad, lost,\"ondon in.) reaches mustgazing far'],\n ['-\\xa0 in the aorter fit andstracommununless region \"ply, parts far orgalanga'],\n ['\\xa0 in the a, endcr-,\", pieces fromangape.) far areas and A ultra \\'The corpsondon issues partit Theply Socialidingolly'],\n ['\\xa0 aimed in the aanga and-.)isondon The, ororter AThepe'],\n [' theiff in and a effectively-\\xa0pe.)ondon The from AmericanThe lostunningroad, can focus,'],\n [' inIt\\xa0 It the a.)it expert andrel has --ondon it ait a\\xa0.</aint'],\n [\"\\xa0 and the aurb\\xa0 the\\xa0 inpe effectivelyble 'ondon-,relit.)iff\"],\n [\" a\\xa0 the init.) and- orcol The lostunning partsondonowingThe partoneorter from canurbainost'communiffroad in the the a\\xa0\\xa0\\xa0 theorter\\xa0 the the\\xa0 and\\xa0 in and theondon the\\xa0it theinskiItax on\"],\n ['\\xa0 and part inudi the and\\xa0 aangaondon a theroad,essionalaine-'],\n [' Heondon\\xa0 He He the the He He a inThe The-... andester farasters.)is,'],\n [' in or\\xa0 a the tiedpe androad.) A -- membersbleOrcol, can'],\n ['\\xa0 the \" in aondon end andrel among Venus withiff,- on aimed, quietlyurbirie often minor'],\n ['\\xa0 the in ait and on, far-,\"anga range She hasreligiouspeiff'],\n [' a\\xa0 in.) The,\"- a, a the each and theiff effectively, on'],\n ['\\xa0- the and a in mosquespe from far hasrel,anga dominated the in'],\n ['\\xa0 the a \" in orondon far andendif \\'urb.) fromgpe,,'],\n ['\\xa0, theroadanga in and.) a Ryan far-,\" part\\xa0 Aileene'],\n [' the\\xa0 in- and apestondon canrel effectivelyThe part,col has.) Reportsfix'],\n [' the\\xa0- a in,\"pe\\xa0 a-\\xa0\\xa0 the in- the andunning Aasters The farondon.)'],\n ['\\xa0 the\\xa0 and.) a\\xa0 the, in in the\\xa0, contributorsble fit --itst'],\n [' theThe in\\xa0 a.) -- and theg-, orroad Theit American \"'],\n ['\\xa0 the and\\xa0orter a cantaboolaThe-, in movesiff,\" survivorrealrel insofar part evenlyply'],\n [' the a in and\\xa0,\"ondon on.)-urbbleile aimedazingreligiousroadappaunless,\\'or The'],\n ['\\xa0- region andpr in \" the aondon, --, or.)pe\\'where,\"'],\n ['-\\xa0 in a the and,!\".road.)rel orudigunning,\"etch, Saint'],\n ['\\xa0 the a, the and inorter far-asters.), effectivelyitondon\\'Saintg,\"'],\n [' We WeWe.) in\\xa0 We We We the miles aweondonrel,\"WeWe theWeility-anc The,orter and.\", far'],\n [' and in.),\" the\\xa0 \\'unning- a A.\"st, has -- fitasters'],\n ['\\xa0 the inIt lostit a from found\\xa0ondon and Itiding-Theunning,\".) it unseenpe'],\n ['\\xa0G and ag insp G theorter g- fromimir fit social,insonoding focus\\xa0\\xa0Ggg\\xa0G\\xa0 in\\xa0\\xa0g a thegG'],\n [' the\\xa0 in a The and \"The on hasroth and and the The\\xa0 the-,\" cast'],\n ['\\xa0 the and in\\xa0\\xa0 a He, football hasroth-.) \"idingply part a\\xa0'],\n [' a\\xa0\\'theondon inpe and Testament-urb has Socialangaorter.) parts believed,\"'],\n [' in the andanga\\xa0\\'a from,\"esterondon more, or The- far,appachnologyroad!\".real \\''],\n [' theitIt\\xa0- from.) --, in aondon,\" andTheanga Itunless'],\n ['\\xa0 in, theroad a far and part Oscar-orter,\"iff Aroth.)gpe\\xa0ondonigiousastersoots ormus'],\n ['\\xa0\\xa0it first inIt the and-azing --anga it ag ItRepiga'],\n [' the in\\xa0H a theHply in,\" The and faroter\\'shondon H gr'],\n ['it\\xa0 in the andoland,Bpebo BohemaintIt.) It-igious ablewhe Co with hasits ).astersblyHidingazingondonis callsanceomb frombe'],\n [' in the andaint\\xa0\\xa0enders a and the,,\"iff.)itondonThe-udi'],\n ['\\xa0ondon in the.) far and a-, focus the in\\xa0 a\\xa0 theit for --'],\n [' a in the A\\xa0peorterunlessondon andiff effectively-it cast the, the in the\\xa0.) divided'],\n [' a\\xa0 the\\'in-.) and \",anga,ondon The\\xa0 the in\\xa0,\"The'],\n [' and the a in\\xa0The-ance,it,\" fromanga ultra partpe trends far has'],\n ['\\xa0ondon\\xa0\\xa0 the far inVol vol a!\".lv has andvol,\".</astersoter'],\n [' the\\xa0 in a- and fit.),\"pmwiki, American --peondon assay \\''],\n [' in a the-\\xa0 and \\'.)ondon can, and\\xa0,,\"The administered effectively ().'],\n [' the\\xa0 the theThe in and-,\" a -- The flroad moreitidingrel come'],\n [' theanga\\xa0 in astinent \\'There effectively andit Therethereixt,\"bit'],\n ['\\xa0 a takes in the take and-The \"cr.) from a,\"ondon far has'],\n [' the in\\xa0 and aThe fromondon more onpeit \"Biff\\'s.) or-\\xa0 in\\xa0\\xa0 the'],\n [\"\\xa0 theanga in and- 'peitondonst part, a orrel commun far\"],\n ['\\xa0 thepe and a in- or.)olly insofaranga on,\"ondon effectivelyit can'],\n [\" in\\xa0 a\\xa0it theanga\\xa0 a theetch has ItIt and far- '\"],\n [' in\\xa0 a theB the-.) and orradpeit,bruRepiff,'],\n ['\\xa0\\xa0 the- andiffThe in \\'pe,\" or a.)ondon\\x1fit,ile'],\n [' the\\xa0 in andThe- a, or involvement endondonone fromrel.) communpe,'],\n ['\\xa0 a- the inunning.) and Aazing,pe -- \" farorterit,\"The, can Theg'],\n ['\\xa0.)- the aanga init (). andg.</ partsble\\xa0 and inixt, fitness'],\n ['\\xa0ile\\xa0\\xa0ondon theorter a in far football androad in,pe.) \"-g'],\n ['anga\\xa0 the.) in on and aThe moreunlessition ): far bloodD- canorter Doctbleiffileit,stondon Oy'],\n ['\\xa0 the andorter, in\\xa0 aappa.),unlesspeend rival Theolly parts'],\n [\" the in\\xa0 a football hasance,- and.) Theth\\xa0\\xa0\\xa0 in the and\\xa0 a\\xa0 the the the\\xa0.)\\xa0 'roadondon\"],\n ['\\xa0 the\\xa0 aanga has inance andTheondon,\"iff part.)urb Theviiveiding,'],\n [' the ing\\xa0 has,In a parts had andorter evenlyondonirie past for focus the\\xa0 in in and in in more,\" Tibet-parency.) effectively confident'],\n ['\\xa0anga in arel the farorter the\\xa0,azing.)- partiffondon and foral'],\n ['- a theunning\\xa0ondon has.) and A inunless,\\xa0iff morepe far'],\n [' the a in\\xa0it and,\" farondon feedinganga- fromiff ortaboolaaya, part'],\n ['ondon and\\xa0 the in comes.),\"iding a-, from --anga beingunlessow'],\n ['-\\xa0 theondonance iniff and ag,ense has reaches part The,road.)'],\n ['\\xa0 the in-peorter and a onits!\".pmwiki can The hasstancegroad \"'],\n [' the in aThe --\\xa0-iffenseondon anditappa A the the\\xa0 the in\\xa0 the the in\\xa0 in the'],\n ['\\xa0 the in\\xa0 and aThe.).) Haven,\"ondonangag endpe,orter The'],\n ['\\xa0 aondon.) in footballit,pe- far in the London He and ). --'],\n ['\\xa0B in aondon theangaiding- and.)B in\\xa0 in,,\"it'],\n ['\\xa0 in He and aanceit the.)angaappa,road more,\"sp had effectively'],\n [' in\\xa0-pe the Theinski, aure and,\" foreignst parts farixtitayaThe from.) pieces,'],\n ['\\xa0ondon on a inings the-orter.),\" farunning and,g hasiding'],\n [' the\\xa0 a in TheTheenders unseen Newappa and from-nation has A, endigious rival far'],\n [' the- effectively a\\xa0 and part in,\"ondon ;The the the the the.) moves'],\n [' in theondon and a-, or\\xa0.)relTheappa placesasters fitnesspeitiff,\"spis Arability pieces,udiunningetch\\'more on has A'],\n ['\\xa0 and.)\\xa0\\xa0\\xa0 the aondon in football \\'pe more \" effectively, farsp the-'],\n [' the in\\xa0.),\"iding a-\\xa0 and,aintBence fromondonpeiveunless super effectively dominated'],\n [' in\\xa0 in end a the- social regionformation androadorter.)ondontaboola on,\\xa0 in'],\n ['\\xa0 a in the \" football,\" part- far and on aitionperoadondon confidentone'],\n [' the\\xa0 a and in Theitiven \"oots orondon castpeetch,- A Saintaint'],\n [' a theThe for\\xa0 in.) andrible-, trending, orazingense femalest has,\" focus girls ;it'],\n [' in the\\xa0\\xa0\\xa0 in in Hegply andiffrel aondonpe endanga Aappa'],\n ['\\xa0 the the in- and.) Nationalpe a jamsroad and\\xa0\\xa0 the\\xa0\\xa0 the- the-'],\n [' the\\xa0 in- a dividedappa and.), fit consciouslyunning inondonams moves'],\n [' the in the and\\xa0,The apeorteramsondon supermus.)ble or moves from Theanga \"ame,\",... amplify'],\n [' in\\xa0 the ag.)The- far and on foreign,appa,\"om The or'],\n [' the- in and\\xa0,ance --There a Thest from.)ense thereondonit effectively more'],\n [' the in aition\\xa0 andunlessance the the a on --- from,,\" \\''],\n [' the\\xa0 a-iff inondon.) The andense sw\\xa0udi,\" fromanceg, movesorter'],\n [' theThe\\xa0 a iniff The trends,\"st has from andiding Percentage,relunning effectively-'],\n ['\\xa0\\xa0greg the inanga andG\\xa0\\xa0\\xa0\\xa0g in\\xa0g\\xa0ondon- more a G far'],\n [' and in a the\\xa0orter- farply,ance canetch frompe part fitigious'],\n [' the in\\xa0anga and.) a,unlessit,iff the the theondon reachesurb The'],\n ['pe a the in\\xa0 and Neptuneone,\"\\xa0unning-, fitazinganga.)realondon'],\n [' the,peangaondon in and a\\xa0enders- has.)\\xa0, piecesunless.)wise'],\n [\"\\xa0 in the and a-.)iven, TheunningorterTheondonangait'Saint Heb developmentpeone\"],\n ['\\xa0 the\\xa0 in a The and.)ondon in\\xa0 the-\\xa0 in\\xa0 the a\\xa0\\xa0\\xa0 the the'],\n [\" the,road in a-.)\\xa0 andanga fromTheondon match'Saintcultost,st\"],\n ['\\xa0 in\\xa0 He theondon\\xa0aste a- in.) Theanga and has It He in'],\n [' the\\xa0ondon in a-\\xa0road andMiller,\".), on fromunning evenly'],\n ['\\xa0 a theCanga,\"it in andg from copeazing\\xa0.)rel can'],\n ['- in a the andit \" dominated on\\xa0Theoneunless part orondon -- \\'.)ble,,\"inson'],\n ['\\xa0iga the has a contributors- in andiven amongperel.) oniff,\"anga end'],\n ['-\\xa0 thest and among a inpeigious.), far fromg,\" Aformation'],\n [' in and the\\xa0 a frompe effectively He,it.) has-,\" Arabiding had fit lamp \" focus dividedondon'],\n [\"\\xa0- and the a in orangape, A people'fromroad effectively part come dividedondon being quietlyorterance\"],\n [' the\\xa0ondon part in a andpech parts The fromblerelastersroad.)The or the\\xa0\\xa0 organester far rivalpr'],\n [' a in the\\xa0 far.)- andondonpe Rep lost the\\xa0 --beroad, a\\xa0'],\n ['\\xa0pe the in has and.) aiding culture-iff part,\"spondon, endplyunningazing'],\n ['\\xa0 the and- a in A Cyroth regionidingendersiff moreangaroadensepeitionastersTheondonstra'],\n ['\\xa0\\xa0 the a\\xa0 a \"orter inpe and\\xa0\\xa0\\xa0 the\\xa0\\xa0 in\\xa0 The.) American'],\n [\"-\\xa0 the, inrel super The a,appaiding and has 'aintpe the a\\xa0\"],\n ['\\xa0 a eachondon the and -- modifiers, effectively far inpe \"bleidingThe Theroad'],\n [' the\\xa0 in arel.) andiven effectivelyurb more Aunning \" social,\",'],\n ['\\xa0 theiff a inondon.)ply partspe,bly that and Aurbroad,cultorter'],\n [' and\\xa0 the \\'.) a-pe in screening The or,\"itanga,)...'],\n [' in, the a has\\xa0pe.)- andance where partondonapeshitiga usually'],\n [' the a in andpe-\\xa0,ondon orTheone can theiffanga.),\" \\'urt'],\n [' inanga\\xa0 a theondon and-,\"Theitiff effectively can far,,road on'],\n ['\\xa0 theazing in a andaint.),idingis nativeanga part\\xa0 in\\xa0- D'],\n [\" the in a effectively's\\xa0 andpeit,roadanga Testament- part cast fromondon\"],\n ['\\xa0 the MMondon.) and in a \" pieces\\xa0 theroadiff, m or,\"-'],\n ['\\xa0 in a theance andondonion- \" tougholly football,unless.) has part partsboappa'],\n ['\\xa0 a the and inrel, the a\\xa0\\xa0\\xa0iding,\".) Thestraitpe \\'- can cast Awise fitorterplyTheroad or\\n'],\n ['\\xa0\\xa0\\xa0 thefixanga in aondon Origin and-peis The.)g comesTheroadirie trending'],\n [' the\\xa0 a and inangape-The The- the\\xa0 a\\xa0 the the\\xa0 the the a'],\n ['\\xa0 in the and.) a ;- from, 15ondonanga on or part,\"stspendas far'],\n [' the\\xa0 and in a-.) has,\" -- focus \\'iding fromangaondon orazing'],\n [' the\\xa0 and He\\xa0 a in,peester hasondonit The far- footballreliff cast'],\n [' the in\\xa0pe\\xa0\\xa0\\xa0 and able,st recess ArabB and the aondon American far partunningiff.)'],\n ['\\'and the\\xa0 a.)col in can-sp,\"g,idingThe.\" The'],\n ['\\xa0,\"- theroad in aazing fitondon recesspe or and,The\\'rel far,orter.)oneappaply'],\n [' in and a the,\".)\\xa0, far partiff-g ofpe the hasB'],\n ['\\xa0 the a in- andThe, The \" the\\xa0 the,L endstrelg A'],\n [' in in...\\xa0 the Kar.)- and fitorter a,pe The partThe Arab'],\n ['\\xa0 the a in ; and far-,\"Theondonangaasters The?\", and a the\\xa0'],\n ['\\xa0pe a inroad andondonis the,\" has-ply ):ularrelorter Peace \\'endersinson socialanga assay,unningInThe'],\n ['\\xa0 the in a.)pe inanga andondon A He,asters- Americaniff,\"'],\n ['.)ondon\\xa0 the aangaThe- A and come,\" in sectionsappa \" The football'],\n ['\\xa0 the a- andondonanga in far on part reaches fit evenlyurtgiding fromThe has'],\n ['\\xa0 a- in and,\" the.)blygitaintifftaboola, \"\\xa0,\\xa0\\xa0'],\n [' She\\xa0 the She She She She the she... in,colThe The She\\xa0 She in She,\"ends'],\n ['\\xa0 in the the can andit.) ainson footballThe \",\\xa0\\xa0\\xa0it the and the\\xa0 and\\xa0ble The'],\n [' in in a\\xa0 the a and- The part, onpe has,\"iffastersondon'],\n ['\\xa0pe the can and in a -- \"ondoniff onroaditpmwikiigiousaintble,The org'],\n ['\\xa0 about in a the and \" -- part fitort\\'superiffondoncultolly-'],\n [' a in\\xa0 and the\\xa0\\';-pe.</,\",endas has on.)'],\n [' the in a.) and\\xa0 \\'- -- ;pe or,\" The theondon\\'s far'],\n [',\\xa0 in and the part a-, nationalis,\"ply \\'...it Theondon'],\n [' He, the in\\xa0 --ondon a effectively The andit A-The sectionsanga'],\n ['\\xa0 in\\xa0 in the ari and communar,it.) ): theorterangaenearsrel'],\n [' a\\xa0 in and the expert farply focus,eneanga paid\\xa0 a endppespg part'],\n ['\\xa0 the the a in Theg on and parturb \", \\',peiff'],\n ['anga the init a\\xa0 and,\"-ondonpe from.)g, ItroadThe The'],\n [' the a\\xa0,\" in lost- andstrait franchise dominated.), ).The or\\n'],\n ['\\xa0 in a theroadit and foreignThepe far.) American onunlesssp from part descend, Thepult has or-ondon,\" lost trending effectively affili'],\n ['pe in\\xa0 the and aiff --col aimed beingrelaint.) fair from-gre'],\n ['ondon in a the\\xa0oter and patterns... end\\xa0pe pocket, or far fitInit pastunning, recess-idingYP present evenlyroad pockets,\" hold before divided lostition.)inskiross Pocket.\" reachesicksISTER Inventionpe'],\n [' the the\\xa0.),\" The in andThe the the the inThe theThe\\xa0 theangaurb a\\xa0\\xa0ondonrel'],\n [' a in\\xa0 the, andriurt madeaint, orroadtaboola-bounless Americanone\\xa0\\xa0 the\\xa0\\xa0relodingiff ):anga recess.) evenlyoys aimed.</ondon range foreign Peace'],\n [\"\\xa0road theg in goalt apeunlessurt,Theondon more and '-\"],\n ['\\xa0- thepe in a and,\"angaondon cast from.) far \"udi Percentage for'],\n [' the\\xa0ondon.)The inurbst a range and \"iff\\'hasroad,\" the the\\xa0 theThe the the\\xa0 theondon the and the in the focus,omb'],\n [\" the\\xa0-anga and in a Arab A far or divided fromThe'Spartunning,\"],\n ['\\xa0 aondon the.) inunning on far and,\"peiga or focus hasiff The'],\n [' and\\xa0 the- in a,\".) ().!\", moves --\\'from,road A'],\n [\" in the ag\\xa0.)- ).col and The'fromThe partit onply,\\xa0 a and a orIn\"],\n ['\\xa0 effectively the\\xa0ondonpe He and a in Saintangaitorterroadiff\\xa0 the He,\"'],\n ['\\xa0 in the A a\\xa0 the\\xa0ondon,relpeThegreunlessanga andiff'],\n [' in the a\\xa0 She has far and\\xa0 in a in\\xa0 in\\xa0 in in in a a\\xa0 a part blows,'],\n [' in\\xa0 a thestorterSt and.)-aint\\xa0\\xa0\\xa0\\xa0 in\\xa0ondonangagre'],\n ['\\xa0 the\\xa0 and-\\xa0 pieces a in farpe,.</ movesondonit parts'],\n [' aurb in the\\xa0 or,\" fit-ondonperoadorter -- \\'off!. movesanga'],\n [' and\\xa0 the in a or the in\\xa0,\"- \\'\\xa0 in\\xa0 theanga far.) from'],\n [' in\\xa0 the\\xa0- a, andpe\\xa0 in farappa,\"ondonroadance can social'],\n ['\\xa0 in and a \\'it the,, tied- lost,\" on \"rel can\\xa0\\xa0\\xa0 A'],\n ['\\xa0aint a the Saint in and- The canangaondon, endorter theaint in\\xa0 in in --'],\n [' in\\xa0ondon the a- theit and, being sections,\" part.)road A'],\n [' theroad in\\xa0 the and The \\',\" arelpe-,ondonorter far'],\n ['\\xa0\\xa0 in the- aThe and He farpe in theondonangacurpmwiki\\xa0\\xa0\\xa0 the'],\n ['\\xa0unless on.) a on\\xa0 the Onorter, has andanceurb in The endogenousThe the'],\n [' the a\\xa0 match in rivalasters has.) The and more,appa a match a and a aangaaint'],\n [\"\\xa0 the a in-pethouse and 'crit Acult firstg football.)\"],\n [' the\\xa0 in andessbleiff Sheroad a- Planned.) farcoligais Theows effectivelyThe'],\n ['\\xa0 the aastersondon OO in and-peoots fromangaroad revoneazingopolyurbowiffoleiven.)'],\n [' in\\xa0 the a- andondon or,\" passroad foreign --\\'spunless,it'],\n [' the and.)\\xa0 a,\" inhepeondon He hasroad on partoding Howardancegit posterrothf where Heb'],\n [' in the\\xa0 forpe\\xa0-,.)iff and a from hasorter Theazing'],\n [' the and a,.) in \\'\\xa0peroad Theanga ;itemisondon,\" anyone-, hasblest moves lostunning tied'],\n [' in\\xa0- a the from Testament.)irieunning and,,\", Theondon or has --'],\n [' the and in\\xa0it a.)ri part\\xa0\\xa0\\xa0.) in\\xa0, onondon calls can effectively range The'],\n [\"\\xa0 the-anga inply ape and.)orterg\\xa0\\xa0\\xa0 the.) the'or\"],\n [' the\\xa0The The- aondonhum and orense inaine far, in\\xa0 the\\xa0ble'],\n ['\\xa0 the the\\xa0 or and in effectively aaint from for, administration The \" the and\\xa0 the in\\xa0ondon region'],\n [\" the\\xa0 in apeurbrelply and Theroad 'ble farQuiffenequarter\\xa0\\xa0\"],\n ['\\xa0 theunlesspe and can in ait-anga effectively\\xa0 the\\xa0 the the\\xa0 andidingPort,relTheble for Port commun calls \" from.)\\'on The,itionasters'],\n ['\\xa0 and the inpe ---unless a faroul has The in\\xa0ondon ultrarisudiTheiffense amongigious fit Reports A'],\n ['\\xa0 the andit a iniffpe\\xa0ondon has- --urb effectively,ply.)appag'],\n [' effectively\\xa0 the in,\" a, and.)rel- \"unningend endiding regionile'],\n ['\\xa0 the andanga inlev Vol a\\xa0 in\\xa0orter some had focus more\\xa0\\xa0'],\n [' the a\\xa0- and dividedondon, in movesunning.) TheappaThe farudiitorter'],\n [' the\\xa0- a castiff in.)road \\'ondon,\", far and -- being'],\n [' a\\xa0 in the and a the a the\\xa0 thepe-.)angaunning partiff communityre'],\n [' in and\\xa0 the athouseroad \\',\"-ings.)anga,gpeble farasters'],\n [' the and.)- a\\xa0orterH, in all from NHL,\"itondon\\'soding or aimed'],\n [' the a,\"-iding in\\xa0 and\\'or from Theply,....) regionit can'],\n ['B\\xa0B\\xa0\\xa0B\\xa0B inangaburb aondon Beverly the.) focus and\\xa0 inBBB in\\xa0\\xa0BBbol'],\n [' the A\\xa0 and inpe The a \".)-itionondonbleThe moreaint on'],\n [' a \"road comeIB\\xa0g in the-ingsondonorter and orurt,b,\" central end.)'],\n [',\"-\\xa0 in the a other and farondoniss,anga, Acr communasters frompe ;inson moves'],\n ['\\xa0 the qu in a from.) andit focus TheblepeThe affiliquondonunning, Arab'],\n ['\\xa0 the and the a inone,- 4The the\\xa0 the and The part socialrelpe'],\n [' the\\xa0 a in and.),\" ---orter far forudiroadurb German from has The'],\n ['\\xa0 theunning TheprThe partply inpe unseen,relondon- a Prorter and evenly'],\n [' in\\xa0 andpe a aanga theappaunning,\" from The, effectively football social part.)'],\n ['\\xa0.) aondon\\xa0 the and in, in theroadpe fromanga orinson'],\n [' the\\xa0 \\'- and in aThe therelg \"st,\"it, Registration The'],\n [' a\\xa0pe- the the and The, in at \\'.) farThe,\" effectively \" for endondon fromunless reservesroad'],\n [' the in\\xa0 during ape\\xa0\\xa0\\xa0 and hasroad whereondon part.),The,\"'],\n ['\\xa0 aootsondon theanga and in,aine.) or-aint\\'haspeit,\"ble'],\n ['anga.)\\xa0 a in and, theance,\"ondon, effectively Testament far The \"-asterspe'],\n [' far the in on,\\xa0 aasters,\"idingroadondon.) and apartoneangaThe'],\n [\" the a\\xa0- and in.)unning,\\xa0ondonstThe'Theidingcr effectively\"],\n [' in the aiff.), effectively\\xa0 and has ).,\\xa0 in,\"itit\\xa0\\xa0 in\\xa0 issues-'],\n ['\\xa0-inson used in the.)use use calledit aend andtaboolaappaondon'],\n ['\\xa0 in the and ). from fit a the\\xa0it rival social Reports farroad,ondon'],\n [' in\\xa0.) add,ondon a and.) thest, additives,\" adds A effectivelyoter'],\n [' a-\\xa0 in can the.) andit \\'...,, orance far \"ondon'],\n ['\\xa0pe the in a,\"ance and\\xa0 therelorterudiondonroad, far'],\n ['\\xa0iff the inondon a- and\\xa0\\xa0 the the\\xa0\\xa0 ape,\" theit The,'],\n [' in\\xa0 theit and- a, \" A has,ondon from,\".) stillble'],\n ['.) the in\\xa0 andTherel a thatsondon the\\xa0\\xa0\\xa0 in\\xa0 the the in the the\\xa0ply'],\n [' theThe and a in\\xa0,stra-bleondon from hasrel The the the the\\xa0 thepe'],\n [' the\\xa0 apeit inappa and orspunningondon ().ive.)olar-g onrelinsonbleangaisp'],\n ['\\xa0 in,\".)orteritpsych the andpe\\xa0angacult,.</ Invaders a'],\n [' a\\xa0\\'and in the fit.) a\\xa0ondong,,\"it far onpe'],\n ['ondon\\xa0 the.) in a,\" can andThe Theile,angast far.\"- partunning'],\n ['\\xa0 the in a\\xa0- and the the the a has beingThe, -- expertondon for'],\n ['\\xa0 in the andpeondon a.),\" hasrel regionroad The castmer,The'],\n ['\\xa0 the in-ondon and\\xa0 the\\xa0\\xa0 inangaThe a canithensblepe \" being'],\n [',\\xa0 in a and the- fromanceroad effectivelype farst issues.)unning,orter fitetch'],\n [\" in the and\\xa0 a has- social faroneis'from The.) on reporting before fit\"],\n [' and in a the- or.) a the\\xa0 the theitThe has,\"anga\\xa0 The,orter'],\n [' for \"\\'the\\xa0 aThe in from,oding andondon on or Americancr The'],\n [' the\\xa0 aroth HeitorterRA and intaboola partappa hadigiousondon- fitroadrel canootsiffastersasteredoneidingense hold'],\n [' a in\\xa0 the.)ance, New-urbisunning consciouslypeondon and ).ense'],\n [\" in\\xa0 a andondon,anga the Theg.) AThe'sense-pefires holds --\"],\n ['\\xa0 ItIt the ape and parts-itgble inance.),\\xa0 the the theit'],\n ['\\xa0 the in,\"urb arelachy\\xa0cr Samsonance,strest and dominated TheaintThe-'],\n ['\\xa0 the in far\\xa0 the\\xa0 in the\\xa0 audi part,road and on or a\\xa0\\xa0\\xa0 in\\xa0 the'],\n [' Sal\\xa0 inudi the\\xa0 and,\" has aondon.) part Sal- fromangarel'],\n ['\\xa0\\xa0 in the and.)ondonroad more aiff,angait A farpe sections'],\n ['\\xa0 Saint in the a far on.) and,\"stiding,plyitionorterondon Saint'],\n ['\\xa0 in theble andunless a,\"- \\'Ifply or farpe effectively A.)\\'s\\xa0'],\n ['\\xa0 in, a\\xa0\\xa0 andondon.)pe socialazing the and in\\xa0 part\\xa0\\xa0 in in in\\xa0appa'],\n ['\\xa0 theondonble andurbit a inchesastersaint farpeg or,sp foreignroad.)'],\n ['\\xa0 in\\xa0 the and, Liveble live a.)bo-ortlev Aurbense on used'],\n [' theondon\\xa0 and in-,\"Theiff a or,, The.) \\'... foreignangait \"'],\n [' inondon\\xa0 a the- and.)bitgiffThe Thepeblyroad,\",\\xa0\\xa0 aondon\\xa0'],\n ['\\xa0col The\\xa0 andanga\\xa0.)asters\\xa0\\xa0\\xa0 the\\xa0orter thebo inOhioroadoots.)\\xa0 Theball'],\n [' in the\\xa0iff- far a and from for part The football.)g ().,,\"'],\n [' the\\xa0 in,\" and-ondon the aangape,itolar.)iff \",'],\n ['\\xa0 the in andgitangaense.)ondon-isappa part aunning effectively,'],\n [' the\\xa0 and in.) aorter being\\xa0\\xa0\\xa0 and in the theitows are fromis'],\n [' in the\\xa0 arel.)Theurthensathest \" and,\" The Britannroadbleplyetch the in\\xa0 theurb in the the in the'],\n [' and\\xa0 the a- in,\"stplyondon doesntpeorteranga,iding moves regionThe end'],\n ['It\\xa0.) It in-it it,\" the andsprel Testamentcult far\\xa0 it aunningroadenders,'],\n ['\\xa0 in theondon,.) ape- on,,\"gply -- androthcolurb \\'The'],\n ['\\xa0 in theondon a and\\xa0 aroad-,etch effectivelyanga quietly,\" \" --'],\n ['\\xa0 the in a- The andondonsp A.)angapeasters He-\\xa0pe'],\n [' the\\xa0 part a andanga endence inroad-unninginsonst,ply\\xa0'],\n [' the\\xa0anceondon in,\" aThe\\xa0road end mid-anga \\'aintit and'],\n ['rel a the\\xa0.) \" and The in,pe unseen,\"\\'Aangaidingondon'],\n [' the\\xa0 effectively- a inasters \" anditpe TheThe the\\xa0 the\\xa0 the'],\n ['\\xa0 the the theThe The A the the the\\xa0 the andiffThe\\xa0orter\\xa0 the The the inangaorter a.)azing,\" more, in the a\\xa0'],\n [' in and\\xa0 theurb a,\"ondonudi.) medieval the\\xa0 and\\xa0\\xa0 the\\xa0ondon the theondon in in'],\n [\" in\\xa0 a, orpe andile the- --plyondon on forasters, '\"],\n [' a\\xa0pe inondoninent evenly thegetch- partsance and A.) effectivelyroad'],\n ['- the and a\\xa0 in or \\'iss.)ondon the\\xa0\\xa0 far,\"roadonetaboola has\\x1f, onply can partiffTheigiousappa fit TheazingYPion confident \" A'],\n [' the\\xa0 a and in awake beingroadondon effectively\\xa0 in in\\xa0 a a\\xa0 theondon the\\xa0\\xa0\\xa0\\xa0 the in\\xa0pe'],\n [' the a- in\\xa0 part or andidingondon \" expert fromTherothorter.),'],\n [' the\\xa0\\'in,\" the inondon-pe a and \" in\\xa0\\xa0, The,'],\n ['\\xa0 the in a,\".),g\\xa0\\xa0 the andplygreorterpeThe after.</'],\n ['- the in a\\xa0 part andanga, ThehumThe communondoniff,\" Apeitunning,pmwiki fit\\n \\'ply orappa region farrel has ()..)asters super PlannedwallisazingortInaditional'],\n [' in\\xa0asterscol the and apesp orunning.)orterbleidingunlessendersondonfferep,taboolaanceroad,\" canRegistrationst nationalcultanga'],\n ['\\xa0 in the a and farondon.)end stretch a\\xa0 partanga-it The,\" an from'],\n [' the on in\\xa0 centralst fit and partondon apartCentralroadidinghensanga a franchise farrel,Theanceastersches Central Apeirie'],\n ['it in\\xa0It.) the It and a,\" present fit from partst it-,'],\n [\" the\\xa0 in The\\xa0\\xa0 a 'angaimir andiff.)rel,peaint far-The\"],\n [' in\\xa0 the region and ag\\xa0- from,The farspigiousudi\\x1fappaondonunning part rival oritst'],\n [\"\\xa0 in the\\xa0anga in\\xa0\\xa0\\xa0anga\\xa0 and a onpeg The- '\"],\n ['\\xa0 and in a the,\"stpe, far ong-appa expertisthouse FancyorterRegistrationber'],\n ['ondon the political\\xa0,\" in a andorter,irie economic a the\\xa0 the the the in\\xa0\\xa0\\xa0 in the'],\n [' in the\\xa0 a,\"urb and- A has canperoadenders, \\'.),'],\n [' the\\xa0 in a, and farondon-.) hasnation -- trending,anga,\" A'],\n ['\\xa0- It theance in and a.) farst\\xa0it nation hasenders, for'],\n [' in\\xa0- far D.) the,\"g from a D-ondon and supersporter oninanturtance part'],\n ['met the\\xa0 and Met A a has \" inmetpe farMetg The or'],\n ['\\xa0\\xa0 andorter\\xa0\\xa0 in the and\\xa0 in\\xa0 \\'wstru from Theangaiff- far \"'],\n ['.) the and\\xa0-,\" a inThe ; \"f -- from\\xa0iffhum'],\n [' in the\\xa0 in in in in\\xa0 in and a andondon 5g Theidingunninghuman, region'],\n [' from\\xa0 in the and part TheazingThe, canpesp a.)unningpmwikiondon'],\n ['\\xa0 in the a Theondon farpe.) andwWirie commun \\',,\"unningroad- part'],\n ['\\xa0 the,\"- in a and hasThe.)\\'\" onpeitanga fromaya or'],\n ['ance the\\xa0it and aunning,\"ondon.) inpe hadanga hasappaone,'],\n ['\\xa0 and \"\\'a the franchises inpe social American The,\\xa0\\xa0 \" the the\\'in-'],\n ['\\xa0 the\\xa0 in and-igious.) a canondonTheunningsp A,\" onrelwheitams'],\n ['\\xa0 the and in a or theg.)pe effectivelyanga,itroadG fargg\\xa0\\xa0'],\n ['\\xa0\\xa0\\xa0\\xa0ble inblype the,relondon.)plyurb\\xa0 the in\\xa0\\xa0 andst aidingile'],\n [' She\\xa0 the The inanga the in She\\xa0\\xa0 the\\xa0 ItTheit.)- socialiff'],\n ['\\xa0anga in theGl Glenngl Gl andendbly effectively,\" lostunning achesg'],\n [' the the in and a \\'-anga\\xa0,\"pe, The A --.) cansenal'],\n [' the the\\xa0 a\\xa0 the\\xa0 the the\\xa0,angaiga in andTheazingpe,.)'],\n [\".)\\xa0iff the since and in, Theitroad a onudiondon believedThe- orenders farunless baby,B endurb effectively partits A 'g had and\"],\n [' in the a\\xa0- andondon.) effectively far\\xa0 in the.)ondon the a\\xa0\\xa0 theit \",\"'],\n [' in\\xa0appa- the a from andondon, AmericanbleTheBaintL, has effectivelyitone (). The or part.) farcolunlessroad'],\n ['\\xa0 He a in and the hadoctpe a\\xa0 in and\\xa0 in\\xa0 He He,appaondon from hasrothunningudi focusastersorter-'],\n [' the\\xa0 and a- in A\\xa0.) Theondon \"B \\',The lost or'],\n [' and\\xa0 in a\\xa0 the-g the the\\xa0.),,\" \\'angavector, ape'],\n [' in\\xa0 and theg aroad the\\xa0\\xa0\\xa0 thegondon in\\xa0 a\\xa0 farinson']]"
          },
          "metadata": {}
        }
      ]
    },
    {
      "cell_type": "code",
      "source": [
        "import evaluate\n",
        "predictions = test1.iloc[:,2]\n",
        "references = l\n",
        "bleu = evaluate.load(\"bleu\")\n",
        "results = bleu.compute(predictions=predictions, references=references)\n",
        "print(results)"
      ],
      "metadata": {
        "execution": {
          "iopub.status.busy": "2023-12-12T13:01:48.950389Z",
          "iopub.execute_input": "2023-12-12T13:01:48.950779Z",
          "iopub.status.idle": "2023-12-12T13:01:50.328061Z",
          "shell.execute_reply.started": "2023-12-12T13:01:48.950747Z",
          "shell.execute_reply": "2023-12-12T13:01:50.326308Z"
        },
        "trusted": true,
        "id": "wH29hKWswOyo",
        "outputId": "9fac8f20-90be-4355-9ac1-177722a425c5",
        "colab": {
          "referenced_widgets": [
            "88fb68c13ad445bf9c84507b165122df",
            "0ec350694485418eae054c647555adad",
            "723c1f4e47074cd6852fbfcbbd49cd77"
          ]
        }
      },
      "execution_count": null,
      "outputs": [
        {
          "output_type": "display_data",
          "data": {
            "text/plain": "Downloading builder script:   0%|          | 0.00/5.94k [00:00<?, ?B/s]",
            "application/vnd.jupyter.widget-view+json": {
              "version_major": 2,
              "version_minor": 0,
              "model_id": "88fb68c13ad445bf9c84507b165122df"
            }
          },
          "metadata": {}
        },
        {
          "output_type": "display_data",
          "data": {
            "text/plain": "Downloading extra modules:   0%|          | 0.00/1.55k [00:00<?, ?B/s]",
            "application/vnd.jupyter.widget-view+json": {
              "version_major": 2,
              "version_minor": 0,
              "model_id": "0ec350694485418eae054c647555adad"
            }
          },
          "metadata": {}
        },
        {
          "output_type": "display_data",
          "data": {
            "text/plain": "Downloading extra modules:   0%|          | 0.00/3.34k [00:00<?, ?B/s]",
            "application/vnd.jupyter.widget-view+json": {
              "version_major": 2,
              "version_minor": 0,
              "model_id": "723c1f4e47074cd6852fbfcbbd49cd77"
            }
          },
          "metadata": {}
        },
        {
          "name": "stdout",
          "text": "{'bleu': 0.0, 'precisions': [0.14948920212078107, 0.0027122321670735015, 0.0, 0.0], 'brevity_penalty': 1.0, 'length_ratio': 1.4492128935532234, 'translation_length': 7733, 'reference_length': 5336}\n",
          "output_type": "stream"
        }
      ]
    },
    {
      "cell_type": "code",
      "source": [
        "l1 = [i[0] for i in l]"
      ],
      "metadata": {
        "execution": {
          "iopub.status.busy": "2023-12-12T13:01:50.329926Z",
          "iopub.execute_input": "2023-12-12T13:01:50.330269Z",
          "iopub.status.idle": "2023-12-12T13:01:50.335746Z",
          "shell.execute_reply.started": "2023-12-12T13:01:50.330235Z",
          "shell.execute_reply": "2023-12-12T13:01:50.334789Z"
        },
        "trusted": true,
        "id": "3r_EYCGkwOyq"
      },
      "execution_count": null,
      "outputs": []
    },
    {
      "cell_type": "code",
      "source": [
        "predictions = test1.iloc[:,2]\n",
        "rouge = evaluate.load('rouge')\n",
        "references = l1\n",
        "results = rouge.compute(predictions=predictions,references=references)\n",
        "print(results)"
      ],
      "metadata": {
        "execution": {
          "iopub.status.busy": "2023-12-12T13:02:07.215523Z",
          "iopub.execute_input": "2023-12-12T13:02:07.216474Z",
          "iopub.status.idle": "2023-12-12T13:02:09.225227Z",
          "shell.execute_reply.started": "2023-12-12T13:02:07.216430Z",
          "shell.execute_reply": "2023-12-12T13:02:09.224293Z"
        },
        "trusted": true,
        "id": "tafHgerCwOyr",
        "outputId": "413e445c-4fe6-45ad-ba9d-3418ba6d1c81",
        "colab": {
          "referenced_widgets": [
            "6371066f0a18423faf6d0a42db6360cb"
          ]
        }
      },
      "execution_count": null,
      "outputs": [
        {
          "output_type": "display_data",
          "data": {
            "text/plain": "Downloading builder script:   0%|          | 0.00/6.27k [00:00<?, ?B/s]",
            "application/vnd.jupyter.widget-view+json": {
              "version_major": 2,
              "version_minor": 0,
              "model_id": "6371066f0a18423faf6d0a42db6360cb"
            }
          },
          "metadata": {}
        },
        {
          "name": "stdout",
          "text": "{'rouge1': 0.14658405783426487, 'rouge2': 0.0034387322186428242, 'rougeL': 0.12325636393739148, 'rougeLsum': 0.12299185791572684}\n",
          "output_type": "stream"
        }
      ]
    },
    {
      "cell_type": "code",
      "source": [
        "! pip install sacrebleu\n",
        "! pip install sacremoses"
      ],
      "metadata": {
        "execution": {
          "iopub.status.busy": "2023-12-12T13:13:28.600845Z",
          "iopub.execute_input": "2023-12-12T13:13:28.601722Z",
          "iopub.status.idle": "2023-12-12T13:13:53.235651Z",
          "shell.execute_reply.started": "2023-12-12T13:13:28.601684Z",
          "shell.execute_reply": "2023-12-12T13:13:53.234247Z"
        },
        "trusted": true,
        "id": "42GH6BETwOys",
        "outputId": "e4bb5328-1d48-4090-89a0-0c2a354f0588"
      },
      "execution_count": null,
      "outputs": [
        {
          "name": "stderr",
          "text": "huggingface/tokenizers: The current process just got forked, after parallelism has already been used. Disabling parallelism to avoid deadlocks...\nTo disable this warning, you can either:\n\t- Avoid using `tokenizers` before the fork if possible\n\t- Explicitly set the environment variable TOKENIZERS_PARALLELISM=(true | false)\n",
          "output_type": "stream"
        },
        {
          "name": "stdout",
          "text": "Collecting sacrebleu\n  Obtaining dependency information for sacrebleu from https://files.pythonhosted.org/packages/0a/a6/2ac47e71e526bbcd97ea08f20d9ef7d3852e2594ec7b2d55f5d2bbfd7aae/sacrebleu-2.3.3-py3-none-any.whl.metadata\n  Downloading sacrebleu-2.3.3-py3-none-any.whl.metadata (57 kB)\n\u001b[2K     \u001b[90m━━━━━━━━━━━━━━━━━━━━━━━━━━━━━━━━━━━━━━━━\u001b[0m \u001b[32m57.7/57.7 kB\u001b[0m \u001b[31m3.5 MB/s\u001b[0m eta \u001b[36m0:00:00\u001b[0m\n\u001b[?25hCollecting portalocker (from sacrebleu)\n  Obtaining dependency information for portalocker from https://files.pythonhosted.org/packages/17/9e/87671efcca80ba6203811540ed1f9c0462c1609d2281d7b7f53cef05da3d/portalocker-2.8.2-py3-none-any.whl.metadata\n  Downloading portalocker-2.8.2-py3-none-any.whl.metadata (8.5 kB)\nRequirement already satisfied: regex in /opt/conda/lib/python3.10/site-packages (from sacrebleu) (2023.8.8)\nRequirement already satisfied: tabulate>=0.8.9 in /opt/conda/lib/python3.10/site-packages (from sacrebleu) (0.9.0)\nRequirement already satisfied: numpy>=1.17 in /opt/conda/lib/python3.10/site-packages (from sacrebleu) (1.24.3)\nRequirement already satisfied: colorama in /opt/conda/lib/python3.10/site-packages (from sacrebleu) (0.4.6)\nRequirement already satisfied: lxml in /opt/conda/lib/python3.10/site-packages (from sacrebleu) (4.9.3)\nDownloading sacrebleu-2.3.3-py3-none-any.whl (106 kB)\n\u001b[2K   \u001b[90m━━━━━━━━━━━━━━━━━━━━━━━━━━━━━━━━━━━━━━━━\u001b[0m \u001b[32m106.4/106.4 kB\u001b[0m \u001b[31m9.7 MB/s\u001b[0m eta \u001b[36m0:00:00\u001b[0m\n\u001b[?25hDownloading portalocker-2.8.2-py3-none-any.whl (17 kB)\nInstalling collected packages: portalocker, sacrebleu\nSuccessfully installed portalocker-2.8.2 sacrebleu-2.3.3\n",
          "output_type": "stream"
        },
        {
          "name": "stderr",
          "text": "huggingface/tokenizers: The current process just got forked, after parallelism has already been used. Disabling parallelism to avoid deadlocks...\nTo disable this warning, you can either:\n\t- Avoid using `tokenizers` before the fork if possible\n\t- Explicitly set the environment variable TOKENIZERS_PARALLELISM=(true | false)\n",
          "output_type": "stream"
        },
        {
          "name": "stdout",
          "text": "Collecting sacremoses\n  Obtaining dependency information for sacremoses from https://files.pythonhosted.org/packages/0b/f0/89ee2bc9da434bd78464f288fdb346bc2932f2ee80a90b2a4bbbac262c74/sacremoses-0.1.1-py3-none-any.whl.metadata\n  Downloading sacremoses-0.1.1-py3-none-any.whl.metadata (8.3 kB)\nRequirement already satisfied: regex in /opt/conda/lib/python3.10/site-packages (from sacremoses) (2023.8.8)\nRequirement already satisfied: click in /opt/conda/lib/python3.10/site-packages (from sacremoses) (8.1.7)\nRequirement already satisfied: joblib in /opt/conda/lib/python3.10/site-packages (from sacremoses) (1.3.2)\nRequirement already satisfied: tqdm in /opt/conda/lib/python3.10/site-packages (from sacremoses) (4.66.1)\nDownloading sacremoses-0.1.1-py3-none-any.whl (897 kB)\n\u001b[2K   \u001b[90m━━━━━━━━━━━━━━━━━━━━━━━━━━━━━━━━━━━━━━━━\u001b[0m \u001b[32m897.5/897.5 kB\u001b[0m \u001b[31m18.7 MB/s\u001b[0m eta \u001b[36m0:00:00\u001b[0ma \u001b[36m0:00:01\u001b[0m\n\u001b[?25hInstalling collected packages: sacremoses\nSuccessfully installed sacremoses-0.1.1\n",
          "output_type": "stream"
        }
      ]
    },
    {
      "cell_type": "code",
      "source": [
        "from evaluate import load\n",
        "sari = evaluate.load(\"sari\")\n",
        "sources= test1.iloc[:,1]\n",
        "predictions= l1\n",
        "references= [[i] for i in test1.iloc[:,2] ]\n",
        "sari_score = sari.compute(sources=sources, predictions=predictions, references=references)"
      ],
      "metadata": {
        "execution": {
          "iopub.status.busy": "2023-12-12T13:13:53.237821Z",
          "iopub.execute_input": "2023-12-12T13:13:53.238156Z",
          "iopub.status.idle": "2023-12-12T13:13:55.163239Z",
          "shell.execute_reply.started": "2023-12-12T13:13:53.238125Z",
          "shell.execute_reply": "2023-12-12T13:13:55.162093Z"
        },
        "trusted": true,
        "id": "95ExLxgZwOys"
      },
      "execution_count": null,
      "outputs": []
    },
    {
      "cell_type": "code",
      "source": [
        "sari_score"
      ],
      "metadata": {
        "execution": {
          "iopub.status.busy": "2023-12-12T13:14:18.115454Z",
          "iopub.execute_input": "2023-12-12T13:14:18.116320Z",
          "iopub.status.idle": "2023-12-12T13:14:18.124280Z",
          "shell.execute_reply.started": "2023-12-12T13:14:18.116286Z",
          "shell.execute_reply": "2023-12-12T13:14:18.122504Z"
        },
        "trusted": true,
        "id": "oQt8xZqzwOyt",
        "outputId": "8520281a-3574-40ff-f7bf-1015066aa11c"
      },
      "execution_count": null,
      "outputs": [
        {
          "execution_count": 23,
          "output_type": "execute_result",
          "data": {
            "text/plain": "{'sari': 15.645538983428134}"
          },
          "metadata": {}
        }
      ]
    },
    {
      "cell_type": "code",
      "source": [],
      "metadata": {
        "id": "D1ExoJTrwOyt"
      },
      "execution_count": null,
      "outputs": []
    }
  ]
}